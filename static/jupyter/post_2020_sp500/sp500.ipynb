{
 "cells": [
  {
   "cell_type": "markdown",
   "metadata": {},
   "source": [
    "# Analysing the S&P 500"
   ]
  },
  {
   "cell_type": "markdown",
   "metadata": {},
   "source": [
    "<a href=\"https://colab.research.google.com/github/jakevdp/PythonDataScienceHandbook/blob/master/notebooks/01.07-Timing-and-Profiling.ipynb\"><img align=\"left\" src=\"https://colab.research.google.com/assets/colab-badge.svg\" alt=\"Open in Colab\" title=\"Open and Execute in Google Colaboratory\"></a>"
   ]
  },
  {
   "cell_type": "markdown",
   "metadata": {},
   "source": [
    "**Please Note**: This is not meant to be financial advice."
   ]
  },
  {
   "cell_type": "markdown",
   "metadata": {},
   "source": [
    "The S&P 500 index is a weighted average over the stock prices of the 500 most valuable companies in the United States, which [some consider](https://en.wikipedia.org/wiki/S%26P_500_Index) \"to be one of the best representations of the U.S. stock market\". It is the subject of [constant](httpsre://twitter.com/realdonaldtrump/status/1146421386820427776?lang=en) [boasts](https://twitter.com/realdonaldtrump/status/1190269494788263936?lang=en) by Trump when its fortunes soar (and naturally conspicuous silence when it crashes), and its health is of national US interest as [over 50% of Americans own stocks](https://www.politifact.com/factchecks/2018/sep/18/ro-khanna/what-percentage-americans-own-stocks/), often as part of retirement plans.  [Economics Nobel Prize winners](https://www.chicagotribune.com/business/ct-xpm-2013-10-14-ct-biz-1015-gail-20131015-story.html) reccommend individ   and Warren Buffet \n",
    "\n",
    "\n",
    "\n",
    "It has also recently become part of the n index is the optimal long term investment strategy for young, long-term  Warren Buffett has won bets against hedge funds . https://www.politifact.com/factchecks/2018/sep/18/ro-khanna/what-percentage-americans-own-stocks/"
   ]
  },
  {
   "cell_type": "markdown",
   "metadata": {},
   "source": [
    "But the focus of this post is to use this index as an interesting source of data"
   ]
  },
  {
   "cell_type": "markdown",
   "metadata": {},
   "source": [
    "https://www.politifact.com/factchecks/2018/sep/18/ro-khanna/what-percentage-americans-own-stocks/"
   ]
  },
  {
   "cell_type": "markdown",
   "metadata": {},
   "source": [
    "Buffett specifically recommends them as a way to boost retirement savings. “Consistently buy an S&P 500 low-cost index fund,” he told CNBC’s On The Money. “I think it’s the thing that makes the most sense practically all of the time.” ~ https://www.cnbc.com/2018/01/03/why-warren-buffett-says-index-funds-are-the-best-investment.html"
   ]
  },
  {
   "cell_type": "markdown",
   "metadata": {},
   "source": [
    "Or Nobel Prize winning economists https://www.chicagotribune.com/business/ct-xpm-2013-10-14-ct-biz-1015-gail-20131015-story.html"
   ]
  },
  {
   "cell_type": "code",
   "execution_count": null,
   "metadata": {},
   "outputs": [],
   "source": [
    "Or Freakonomics: http://freakonomics.com/podcast/stupidest-money/"
   ]
  },
  {
   "cell_type": "markdown",
   "metadata": {},
   "source": [
    "## Get and Preprocess Stock Data"
   ]
  },
  {
   "cell_type": "code",
   "execution_count": 1,
   "metadata": {},
   "outputs": [
    {
     "name": "stderr",
     "output_type": "stream",
     "text": [
      "/Users/sebastianbodenstein/.pyenv/versions/3.8.1/lib/python3.8/site-packages/pandas/compat/__init__.py:117: UserWarning: Could not import the lzma module. Your installed Python is incomplete. Attempting to use lzma compression will result in a RuntimeError.\n",
      "  warnings.warn(msg)\n"
     ]
    }
   ],
   "source": [
    "%matplotlib inline\n",
    "\n",
    "import pandas as pd\n",
    "import yfinance as yf\n",
    "import numpy as np\n",
    "import seaborn as sns\n",
    "sns.set()\n",
    "sns.set_context(\"notebook\")\n",
    "\n",
    "# import matplotlib.pyplotas plt\n",
    "# import matplotlib as mpl\n",
    "# mpl.rcParams['figure.dpi']= 100\n",
    "\n",
    "# plt.style.use('seaborn')\n",
    "\n",
    "# mpl.rcParams[\"figure.figsize\"] = [2.5, 1.5]\n",
    "# mpl.rcParams['lines.linewidth'] = 0.3\n",
    "# mpl.rcParams['lines.markersize'] = 10\n",
    "# mpl.rcParams['lines.scale_dashes'] = True\n",
    "# mpl.rcParams['figure.titlesize'] = 'small'\n",
    "\n"
   ]
  },
  {
   "cell_type": "markdown",
   "metadata": {},
   "source": [
    "The best publicly available stock market https://us.spindices.com/indices/equity/sp-500 "
   ]
  },
  {
   "cell_type": "code",
   "execution_count": 2,
   "metadata": {},
   "outputs": [
    {
     "data": {
      "text/html": [
       "<div>\n",
       "<style scoped>\n",
       "    .dataframe tbody tr th:only-of-type {\n",
       "        vertical-align: middle;\n",
       "    }\n",
       "\n",
       "    .dataframe tbody tr th {\n",
       "        vertical-align: top;\n",
       "    }\n",
       "\n",
       "    .dataframe thead th {\n",
       "        text-align: right;\n",
       "    }\n",
       "</style>\n",
       "<table border=\"1\" class=\"dataframe\">\n",
       "  <thead>\n",
       "    <tr style=\"text-align: right;\">\n",
       "      <th></th>\n",
       "      <th>Open</th>\n",
       "      <th>High</th>\n",
       "      <th>Low</th>\n",
       "      <th>Close</th>\n",
       "      <th>Volume</th>\n",
       "      <th>Dividends</th>\n",
       "      <th>Stock Splits</th>\n",
       "    </tr>\n",
       "    <tr>\n",
       "      <th>Date</th>\n",
       "      <th></th>\n",
       "      <th></th>\n",
       "      <th></th>\n",
       "      <th></th>\n",
       "      <th></th>\n",
       "      <th></th>\n",
       "      <th></th>\n",
       "    </tr>\n",
       "  </thead>\n",
       "  <tbody>\n",
       "    <tr>\n",
       "      <th>1957-03-04</th>\n",
       "      <td>44.06</td>\n",
       "      <td>44.06</td>\n",
       "      <td>44.06</td>\n",
       "      <td>44.06</td>\n",
       "      <td>1890000</td>\n",
       "      <td>0</td>\n",
       "      <td>0</td>\n",
       "    </tr>\n",
       "    <tr>\n",
       "      <th>1957-03-05</th>\n",
       "      <td>44.22</td>\n",
       "      <td>44.22</td>\n",
       "      <td>44.22</td>\n",
       "      <td>44.22</td>\n",
       "      <td>1860000</td>\n",
       "      <td>0</td>\n",
       "      <td>0</td>\n",
       "    </tr>\n",
       "    <tr>\n",
       "      <th>1957-03-06</th>\n",
       "      <td>44.23</td>\n",
       "      <td>44.23</td>\n",
       "      <td>44.23</td>\n",
       "      <td>44.23</td>\n",
       "      <td>1840000</td>\n",
       "      <td>0</td>\n",
       "      <td>0</td>\n",
       "    </tr>\n",
       "    <tr>\n",
       "      <th>1957-03-07</th>\n",
       "      <td>44.21</td>\n",
       "      <td>44.21</td>\n",
       "      <td>44.21</td>\n",
       "      <td>44.21</td>\n",
       "      <td>1830000</td>\n",
       "      <td>0</td>\n",
       "      <td>0</td>\n",
       "    </tr>\n",
       "    <tr>\n",
       "      <th>1957-03-08</th>\n",
       "      <td>44.07</td>\n",
       "      <td>44.07</td>\n",
       "      <td>44.07</td>\n",
       "      <td>44.07</td>\n",
       "      <td>1630000</td>\n",
       "      <td>0</td>\n",
       "      <td>0</td>\n",
       "    </tr>\n",
       "  </tbody>\n",
       "</table>\n",
       "</div>"
      ],
      "text/plain": [
       "             Open   High    Low  Close   Volume  Dividends  Stock Splits\n",
       "Date                                                                    \n",
       "1957-03-04  44.06  44.06  44.06  44.06  1890000          0             0\n",
       "1957-03-05  44.22  44.22  44.22  44.22  1860000          0             0\n",
       "1957-03-06  44.23  44.23  44.23  44.23  1840000          0             0\n",
       "1957-03-07  44.21  44.21  44.21  44.21  1830000          0             0\n",
       "1957-03-08  44.07  44.07  44.07  44.07  1630000          0             0"
      ]
     },
     "execution_count": 2,
     "metadata": {},
     "output_type": "execute_result"
    }
   ],
   "source": [
    "sp500 = yf.Ticker(\"^GSPC\").history(start='1957-03-04', end='2020-03-31')\n",
    "sp500.head()"
   ]
  },
  {
   "cell_type": "code",
   "execution_count": 32,
   "metadata": {},
   "outputs": [],
   "source": [
    "\n",
    "import matplotlib as mpl\n",
    "mpl.rcParams['figure.dpi']= 50"
   ]
  },
  {
   "cell_type": "code",
   "execution_count": 33,
   "metadata": {},
   "outputs": [
    {
     "data": {
      "image/png": "[encoded data removed]",
      "text/plain": [
       "<Figure size 300x200 with 1 Axes>"
      ]
     },
     "metadata": {},
     "output_type": "display_data"
    }
   ],
   "source": [
    "fig=sp500[\"Close\"].plot()\n"
   ]
  },
  {
   "cell_type": "code",
   "execution_count": null,
   "metadata": {},
   "outputs": [],
   "source": [
    "import seaborn as sns\n",
    "\n",
    "iris_df = sns.load_dataset('iris')\n",
    "\n",
    "iris_df.head()"
   ]
  },
  {
   "cell_type": "code",
   "execution_count": 7,
   "metadata": {},
   "outputs": [
    {
     "data": {
      "image/png": "[encoded data removed]",
      "text/plain": [
       "<Figure size 432x288 with 1 Axes>"
      ]
     },
     "metadata": {},
     "output_type": "display_data"
    }
   ],
   "source": [
    "# mpl.rcParams['figure.dpi']= 400\n",
    "# mpl.rcParams[\"figure.figsize\"]= [1.4, 1.1]\n",
    "# sns.set_context(\"notebook\", font_scale=0.3, rc={\"lines.linewidth\": 0.1})\n",
    "sp500[\"Close\"].plot().get_figure().savefig(\"output.png\", dpi=500)"
   ]
  },
  {
   "cell_type": "code",
   "execution_count": 5,
   "metadata": {},
   "outputs": [
    {
     "data": {
      "text/html": [
       "<div>\n",
       "<style scoped>\n",
       "    .dataframe tbody tr th:only-of-type {\n",
       "        vertical-align: middle;\n",
       "    }\n",
       "\n",
       "    .dataframe tbody tr th {\n",
       "        vertical-align: top;\n",
       "    }\n",
       "\n",
       "    .dataframe thead th {\n",
       "        text-align: right;\n",
       "    }\n",
       "</style>\n",
       "<table border=\"1\" class=\"dataframe\">\n",
       "  <thead>\n",
       "    <tr style=\"text-align: right;\">\n",
       "      <th></th>\n",
       "      <th>Open</th>\n",
       "      <th>High</th>\n",
       "      <th>Low</th>\n",
       "      <th>Close</th>\n",
       "      <th>Volume</th>\n",
       "      <th>Dividends</th>\n",
       "      <th>Stock Splits</th>\n",
       "    </tr>\n",
       "  </thead>\n",
       "  <tbody>\n",
       "    <tr>\n",
       "      <th>1957-03-04</th>\n",
       "      <td>44.06</td>\n",
       "      <td>44.06</td>\n",
       "      <td>44.06</td>\n",
       "      <td>44.06</td>\n",
       "      <td>1890000</td>\n",
       "      <td>0</td>\n",
       "      <td>0</td>\n",
       "    </tr>\n",
       "    <tr>\n",
       "      <th>1957-03-05</th>\n",
       "      <td>44.22</td>\n",
       "      <td>44.22</td>\n",
       "      <td>44.22</td>\n",
       "      <td>44.22</td>\n",
       "      <td>1860000</td>\n",
       "      <td>0</td>\n",
       "      <td>0</td>\n",
       "    </tr>\n",
       "    <tr>\n",
       "      <th>1957-03-06</th>\n",
       "      <td>44.23</td>\n",
       "      <td>44.23</td>\n",
       "      <td>44.23</td>\n",
       "      <td>44.23</td>\n",
       "      <td>1840000</td>\n",
       "      <td>0</td>\n",
       "      <td>0</td>\n",
       "    </tr>\n",
       "    <tr>\n",
       "      <th>1957-03-07</th>\n",
       "      <td>44.21</td>\n",
       "      <td>44.21</td>\n",
       "      <td>44.21</td>\n",
       "      <td>44.21</td>\n",
       "      <td>1830000</td>\n",
       "      <td>0</td>\n",
       "      <td>0</td>\n",
       "    </tr>\n",
       "    <tr>\n",
       "      <th>1957-03-08</th>\n",
       "      <td>44.07</td>\n",
       "      <td>44.07</td>\n",
       "      <td>44.07</td>\n",
       "      <td>44.07</td>\n",
       "      <td>1630000</td>\n",
       "      <td>0</td>\n",
       "      <td>0</td>\n",
       "    </tr>\n",
       "    <tr>\n",
       "      <th>...</th>\n",
       "      <td>...</td>\n",
       "      <td>...</td>\n",
       "      <td>...</td>\n",
       "      <td>...</td>\n",
       "      <td>...</td>\n",
       "      <td>...</td>\n",
       "      <td>...</td>\n",
       "    </tr>\n",
       "    <tr>\n",
       "      <th>2020-03-26</th>\n",
       "      <td>2501.29</td>\n",
       "      <td>2637.01</td>\n",
       "      <td>2500.72</td>\n",
       "      <td>2630.07</td>\n",
       "      <td>7753160000</td>\n",
       "      <td>0</td>\n",
       "      <td>0</td>\n",
       "    </tr>\n",
       "    <tr>\n",
       "      <th>2020-03-27</th>\n",
       "      <td>2555.87</td>\n",
       "      <td>2615.91</td>\n",
       "      <td>2520.02</td>\n",
       "      <td>2541.47</td>\n",
       "      <td>6194330000</td>\n",
       "      <td>0</td>\n",
       "      <td>0</td>\n",
       "    </tr>\n",
       "    <tr>\n",
       "      <th>2020-03-28</th>\n",
       "      <td>2555.87</td>\n",
       "      <td>2615.91</td>\n",
       "      <td>2520.02</td>\n",
       "      <td>2541.47</td>\n",
       "      <td>6194330000</td>\n",
       "      <td>0</td>\n",
       "      <td>0</td>\n",
       "    </tr>\n",
       "    <tr>\n",
       "      <th>2020-03-29</th>\n",
       "      <td>2555.87</td>\n",
       "      <td>2615.91</td>\n",
       "      <td>2520.02</td>\n",
       "      <td>2541.47</td>\n",
       "      <td>6194330000</td>\n",
       "      <td>0</td>\n",
       "      <td>0</td>\n",
       "    </tr>\n",
       "    <tr>\n",
       "      <th>2020-03-30</th>\n",
       "      <td>2558.98</td>\n",
       "      <td>2631.80</td>\n",
       "      <td>2545.28</td>\n",
       "      <td>2626.65</td>\n",
       "      <td>5746220000</td>\n",
       "      <td>0</td>\n",
       "      <td>0</td>\n",
       "    </tr>\n",
       "  </tbody>\n",
       "</table>\n",
       "<p>23038 rows × 7 columns</p>\n",
       "</div>"
      ],
      "text/plain": [
       "               Open     High      Low    Close      Volume  Dividends  \\\n",
       "1957-03-04    44.06    44.06    44.06    44.06     1890000          0   \n",
       "1957-03-05    44.22    44.22    44.22    44.22     1860000          0   \n",
       "1957-03-06    44.23    44.23    44.23    44.23     1840000          0   \n",
       "1957-03-07    44.21    44.21    44.21    44.21     1830000          0   \n",
       "1957-03-08    44.07    44.07    44.07    44.07     1630000          0   \n",
       "...             ...      ...      ...      ...         ...        ...   \n",
       "2020-03-26  2501.29  2637.01  2500.72  2630.07  7753160000          0   \n",
       "2020-03-27  2555.87  2615.91  2520.02  2541.47  6194330000          0   \n",
       "2020-03-28  2555.87  2615.91  2520.02  2541.47  6194330000          0   \n",
       "2020-03-29  2555.87  2615.91  2520.02  2541.47  6194330000          0   \n",
       "2020-03-30  2558.98  2631.80  2545.28  2626.65  5746220000          0   \n",
       "\n",
       "            Stock Splits  \n",
       "1957-03-04             0  \n",
       "1957-03-05             0  \n",
       "1957-03-06             0  \n",
       "1957-03-07             0  \n",
       "1957-03-08             0  \n",
       "...                  ...  \n",
       "2020-03-26             0  \n",
       "2020-03-27             0  \n",
       "2020-03-28             0  \n",
       "2020-03-29             0  \n",
       "2020-03-30             0  \n",
       "\n",
       "[23038 rows x 7 columns]"
      ]
     },
     "execution_count": 5,
     "metadata": {},
     "output_type": "execute_result"
    }
   ],
   "source": [
    "new_date_index = pd.date_range(start=sp500.index[0], end=sp500.index[-1], freq='D')\n",
    "sp500.reindex(new_date_index, method='ffill')"
   ]
  },
  {
   "cell_type": "markdown",
   "metadata": {},
   "source": [
    "### How Severe is the Corona-Crash?"
   ]
  },
  {
   "cell_type": "markdown",
   "metadata": {},
   "source": [
    "The impact of the coronavirus can easily be seen from the S&P 500 data:"
   ]
  },
  {
   "cell_type": "code",
   "execution_count": 6,
   "metadata": {
    "scrolled": false
   },
   "outputs": [
    {
     "data": {
      "text/plain": [
       "<matplotlib.axes._subplots.AxesSubplot at 0x122c37c10>"
      ]
     },
     "execution_count": 6,
     "metadata": {},
     "output_type": "execute_result"
    },
    {
     "data": {
      "image/png": "[encoded data removed]",
      "text/plain": [
       "<Figure size 800x550 with 1 Axes>"
      ]
     },
     "metadata": {},
     "output_type": "display_data"
    }
   ],
   "source": [
    "ax = sp500.loc['2020-01-31':'2020-03-31'][\"Close\"].plot()\n",
    "ax.set_ylabel(\"Stock Price ($)\")\n",
    "ax"
   ]
  },
  {
   "cell_type": "code",
   "execution_count": 287,
   "metadata": {},
   "outputs": [
    {
     "data": {
      "text/html": [
       "<div>\n",
       "<style scoped>\n",
       "    .dataframe tbody tr th:only-of-type {\n",
       "        vertical-align: middle;\n",
       "    }\n",
       "\n",
       "    .dataframe tbody tr th {\n",
       "        vertical-align: top;\n",
       "    }\n",
       "\n",
       "    .dataframe thead th {\n",
       "        text-align: right;\n",
       "    }\n",
       "</style>\n",
       "<table border=\"1\" class=\"dataframe\">\n",
       "  <thead>\n",
       "    <tr style=\"text-align: right;\">\n",
       "      <th></th>\n",
       "      <th>Open</th>\n",
       "      <th>High</th>\n",
       "      <th>Low</th>\n",
       "      <th>Close</th>\n",
       "      <th>Volume</th>\n",
       "      <th>Dividends</th>\n",
       "      <th>Stock Splits</th>\n",
       "    </tr>\n",
       "    <tr>\n",
       "      <th>Date</th>\n",
       "      <th></th>\n",
       "      <th></th>\n",
       "      <th></th>\n",
       "      <th></th>\n",
       "      <th></th>\n",
       "      <th></th>\n",
       "      <th></th>\n",
       "    </tr>\n",
       "  </thead>\n",
       "  <tbody>\n",
       "    <tr>\n",
       "      <th>1957-03-04</th>\n",
       "      <td>44.06</td>\n",
       "      <td>44.06</td>\n",
       "      <td>44.06</td>\n",
       "      <td>44.06</td>\n",
       "      <td>1890000</td>\n",
       "      <td>0</td>\n",
       "      <td>0</td>\n",
       "    </tr>\n",
       "    <tr>\n",
       "      <th>1957-03-05</th>\n",
       "      <td>44.22</td>\n",
       "      <td>44.22</td>\n",
       "      <td>44.22</td>\n",
       "      <td>44.22</td>\n",
       "      <td>1860000</td>\n",
       "      <td>0</td>\n",
       "      <td>0</td>\n",
       "    </tr>\n",
       "    <tr>\n",
       "      <th>1957-03-06</th>\n",
       "      <td>44.23</td>\n",
       "      <td>44.23</td>\n",
       "      <td>44.23</td>\n",
       "      <td>44.23</td>\n",
       "      <td>1840000</td>\n",
       "      <td>0</td>\n",
       "      <td>0</td>\n",
       "    </tr>\n",
       "    <tr>\n",
       "      <th>1957-03-07</th>\n",
       "      <td>44.21</td>\n",
       "      <td>44.21</td>\n",
       "      <td>44.21</td>\n",
       "      <td>44.21</td>\n",
       "      <td>1830000</td>\n",
       "      <td>0</td>\n",
       "      <td>0</td>\n",
       "    </tr>\n",
       "    <tr>\n",
       "      <th>1957-03-08</th>\n",
       "      <td>44.07</td>\n",
       "      <td>44.07</td>\n",
       "      <td>44.07</td>\n",
       "      <td>44.07</td>\n",
       "      <td>1630000</td>\n",
       "      <td>0</td>\n",
       "      <td>0</td>\n",
       "    </tr>\n",
       "    <tr>\n",
       "      <th>...</th>\n",
       "      <td>...</td>\n",
       "      <td>...</td>\n",
       "      <td>...</td>\n",
       "      <td>...</td>\n",
       "      <td>...</td>\n",
       "      <td>...</td>\n",
       "      <td>...</td>\n",
       "    </tr>\n",
       "    <tr>\n",
       "      <th>2020-03-24</th>\n",
       "      <td>2344.44</td>\n",
       "      <td>2449.71</td>\n",
       "      <td>2344.44</td>\n",
       "      <td>2447.33</td>\n",
       "      <td>7547350000</td>\n",
       "      <td>0</td>\n",
       "      <td>0</td>\n",
       "    </tr>\n",
       "    <tr>\n",
       "      <th>2020-03-25</th>\n",
       "      <td>2457.77</td>\n",
       "      <td>2571.42</td>\n",
       "      <td>2407.53</td>\n",
       "      <td>2475.56</td>\n",
       "      <td>8285670000</td>\n",
       "      <td>0</td>\n",
       "      <td>0</td>\n",
       "    </tr>\n",
       "    <tr>\n",
       "      <th>2020-03-26</th>\n",
       "      <td>2501.29</td>\n",
       "      <td>2637.01</td>\n",
       "      <td>2500.72</td>\n",
       "      <td>2630.07</td>\n",
       "      <td>7753160000</td>\n",
       "      <td>0</td>\n",
       "      <td>0</td>\n",
       "    </tr>\n",
       "    <tr>\n",
       "      <th>2020-03-27</th>\n",
       "      <td>2555.87</td>\n",
       "      <td>2615.91</td>\n",
       "      <td>2520.02</td>\n",
       "      <td>2541.47</td>\n",
       "      <td>6194330000</td>\n",
       "      <td>0</td>\n",
       "      <td>0</td>\n",
       "    </tr>\n",
       "    <tr>\n",
       "      <th>2020-03-30</th>\n",
       "      <td>2558.98</td>\n",
       "      <td>2631.80</td>\n",
       "      <td>2545.28</td>\n",
       "      <td>2626.65</td>\n",
       "      <td>5746220000</td>\n",
       "      <td>0</td>\n",
       "      <td>0</td>\n",
       "    </tr>\n",
       "  </tbody>\n",
       "</table>\n",
       "<p>15878 rows × 7 columns</p>\n",
       "</div>"
      ],
      "text/plain": [
       "               Open     High      Low    Close      Volume  Dividends  \\\n",
       "Date                                                                    \n",
       "1957-03-04    44.06    44.06    44.06    44.06     1890000          0   \n",
       "1957-03-05    44.22    44.22    44.22    44.22     1860000          0   \n",
       "1957-03-06    44.23    44.23    44.23    44.23     1840000          0   \n",
       "1957-03-07    44.21    44.21    44.21    44.21     1830000          0   \n",
       "1957-03-08    44.07    44.07    44.07    44.07     1630000          0   \n",
       "...             ...      ...      ...      ...         ...        ...   \n",
       "2020-03-24  2344.44  2449.71  2344.44  2447.33  7547350000          0   \n",
       "2020-03-25  2457.77  2571.42  2407.53  2475.56  8285670000          0   \n",
       "2020-03-26  2501.29  2637.01  2500.72  2630.07  7753160000          0   \n",
       "2020-03-27  2555.87  2615.91  2520.02  2541.47  6194330000          0   \n",
       "2020-03-30  2558.98  2631.80  2545.28  2626.65  5746220000          0   \n",
       "\n",
       "            Stock Splits  \n",
       "Date                      \n",
       "1957-03-04             0  \n",
       "1957-03-05             0  \n",
       "1957-03-06             0  \n",
       "1957-03-07             0  \n",
       "1957-03-08             0  \n",
       "...                  ...  \n",
       "2020-03-24             0  \n",
       "2020-03-25             0  \n",
       "2020-03-26             0  \n",
       "2020-03-27             0  \n",
       "2020-03-30             0  \n",
       "\n",
       "[15878 rows x 7 columns]"
      ]
     },
     "execution_count": 287,
     "metadata": {},
     "output_type": "execute_result"
    }
   ],
   "source": [
    "sp500"
   ]
  },
  {
   "cell_type": "markdown",
   "metadata": {},
   "source": [
    "This \n",
    "\n",
    "The simplest measure of how well or badly a stock is doing is the [return on investment[(https://en.wikipedia.org/wiki/Return_on_investment), defined as $(\\text{stock_value}(t_2)-\\text{stock_value}(t_1))/\\text{stock_value}(t_1)$"
   ]
  },
  {
   "cell_type": "code",
   "execution_count": 256,
   "metadata": {},
   "outputs": [],
   "source": [
    "def return_on_investment(data, time_horizon):\n",
    "    \"\"\"return on  \"\"\"\n",
    "    # convert time_horizon to days, as years and months are different lengths of time\n",
    "    # depending on start time\n",
    "    horizon_days = time_horizon.copy().astype('<m8[D]').astype(np.int64)\n",
    "    close_data = data[\"Close\"].to_numpy()\n",
    "    start_values = close_data[:-horizon_days]\n",
    "    end_values = close_data[horizon_days:]\n",
    "    returns = 100 * (end_values - start_values) / start_values \n",
    "    return pd.DataFrame({\"ROI\": returns}, index=data.index[:-horizon_days])"
   ]
  },
  {
   "cell_type": "code",
   "execution_count": 280,
   "metadata": {
    "scrolled": true
   },
   "outputs": [
    {
     "data": {
      "text/html": [
       "<div>\n",
       "<style scoped>\n",
       "    .dataframe tbody tr th:only-of-type {\n",
       "        vertical-align: middle;\n",
       "    }\n",
       "\n",
       "    .dataframe tbody tr th {\n",
       "        vertical-align: top;\n",
       "    }\n",
       "\n",
       "    .dataframe thead th {\n",
       "        text-align: right;\n",
       "    }\n",
       "</style>\n",
       "<table border=\"1\" class=\"dataframe\">\n",
       "  <thead>\n",
       "    <tr style=\"text-align: right;\">\n",
       "      <th></th>\n",
       "      <th>ROI</th>\n",
       "    </tr>\n",
       "    <tr>\n",
       "      <th>Date</th>\n",
       "      <th></th>\n",
       "    </tr>\n",
       "  </thead>\n",
       "  <tbody>\n",
       "    <tr>\n",
       "      <th>2020-02-07</th>\n",
       "      <td>-32.764574</td>\n",
       "    </tr>\n",
       "    <tr>\n",
       "      <th>2020-02-06</th>\n",
       "      <td>-31.109637</td>\n",
       "    </tr>\n",
       "    <tr>\n",
       "      <th>2008-08-28</th>\n",
       "      <td>-30.865393</td>\n",
       "    </tr>\n",
       "    <tr>\n",
       "      <th>2008-09-12</th>\n",
       "      <td>-29.953663</td>\n",
       "    </tr>\n",
       "    <tr>\n",
       "      <th>1987-09-14</th>\n",
       "      <td>-29.531385</td>\n",
       "    </tr>\n",
       "    <tr>\n",
       "      <th>1987-09-04</th>\n",
       "      <td>-29.005368</td>\n",
       "    </tr>\n",
       "    <tr>\n",
       "      <th>2008-08-27</th>\n",
       "      <td>-29.004572</td>\n",
       "    </tr>\n",
       "    <tr>\n",
       "      <th>2008-09-15</th>\n",
       "      <td>-28.823677</td>\n",
       "    </tr>\n",
       "  </tbody>\n",
       "</table>\n",
       "</div>"
      ],
      "text/plain": [
       "                  ROI\n",
       "Date                 \n",
       "2020-02-07 -32.764574\n",
       "2020-02-06 -31.109637\n",
       "2008-08-28 -30.865393\n",
       "2008-09-12 -29.953663\n",
       "1987-09-14 -29.531385\n",
       "1987-09-04 -29.005368\n",
       "2008-08-27 -29.004572\n",
       "2008-09-15 -28.823677"
      ]
     },
     "execution_count": 280,
     "metadata": {},
     "output_type": "execute_result"
    }
   ],
   "source": [
    "time_horizon = np.timedelta64(1, 'M')\n",
    "roi_1month = return_on_investment(sp500, time_horizon).sort_values(by=\"ROI\")\n",
    "roi_1month.head(8)"
   ]
  },
  {
   "cell_type": "markdown",
   "metadata": {},
   "source": [
    "So the coronavirus has resulted in the **largest single-month drop in value of the S&P 500 in its entire 63-year history**! \n",
    "\n",
    "We see two other major crashes from the table, in 1987 and 2008. The first corresponds to the [Black Monday](https://en.wikipedia.org/wiki/Black_Monday_(1987)) crash, whilst the second was at the height of the [Subprime Mortgage Crisis](https://en.wikipedia.org/wiki/Subprime_mortgage_crisis) that led to the [Great Recession](https://en.wikipedia.org/wiki/Great_Recession). "
   ]
  },
  {
   "cell_type": "markdown",
   "metadata": {},
   "source": [
    "We can "
   ]
  },
  {
   "cell_type": "code",
   "execution_count": 279,
   "metadata": {},
   "outputs": [
    {
     "data": {
      "text/html": [
       "<div>\n",
       "<style scoped>\n",
       "    .dataframe tbody tr th:only-of-type {\n",
       "        vertical-align: middle;\n",
       "    }\n",
       "\n",
       "    .dataframe tbody tr th {\n",
       "        vertical-align: top;\n",
       "    }\n",
       "\n",
       "    .dataframe thead th {\n",
       "        text-align: right;\n",
       "    }\n",
       "</style>\n",
       "<table border=\"1\" class=\"dataframe\">\n",
       "  <thead>\n",
       "    <tr style=\"text-align: right;\">\n",
       "      <th></th>\n",
       "      <th>ROI</th>\n",
       "    </tr>\n",
       "    <tr>\n",
       "      <th>Date</th>\n",
       "      <th></th>\n",
       "    </tr>\n",
       "  </thead>\n",
       "  <tbody>\n",
       "    <tr>\n",
       "      <th>1987-10-16</th>\n",
       "      <td>-20.466926</td>\n",
       "    </tr>\n",
       "    <tr>\n",
       "      <th>2020-03-13</th>\n",
       "      <td>-11.984050</td>\n",
       "    </tr>\n",
       "    <tr>\n",
       "      <th>2020-03-11</th>\n",
       "      <td>-9.511268</td>\n",
       "    </tr>\n",
       "    <tr>\n",
       "      <th>2008-10-14</th>\n",
       "      <td>-9.034980</td>\n",
       "    </tr>\n",
       "    <tr>\n",
       "      <th>2008-11-28</th>\n",
       "      <td>-8.929528</td>\n",
       "    </tr>\n",
       "    <tr>\n",
       "      <th>2008-09-26</th>\n",
       "      <td>-8.806778</td>\n",
       "    </tr>\n",
       "    <tr>\n",
       "      <th>1987-10-23</th>\n",
       "      <td>-8.278946</td>\n",
       "    </tr>\n",
       "    <tr>\n",
       "      <th>2008-10-08</th>\n",
       "      <td>-7.616708</td>\n",
       "    </tr>\n",
       "    <tr>\n",
       "      <th>2020-03-06</th>\n",
       "      <td>-7.596968</td>\n",
       "    </tr>\n",
       "    <tr>\n",
       "      <th>1997-10-24</th>\n",
       "      <td>-6.865681</td>\n",
       "    </tr>\n",
       "  </tbody>\n",
       "</table>\n",
       "</div>"
      ],
      "text/plain": [
       "                  ROI\n",
       "Date                 \n",
       "1987-10-16 -20.466926\n",
       "2020-03-13 -11.984050\n",
       "2020-03-11  -9.511268\n",
       "2008-10-14  -9.034980\n",
       "2008-11-28  -8.929528\n",
       "2008-09-26  -8.806778\n",
       "1987-10-23  -8.278946\n",
       "2008-10-08  -7.616708\n",
       "2020-03-06  -7.596968\n",
       "1997-10-24  -6.865681"
      ]
     },
     "execution_count": 279,
     "metadata": {},
     "output_type": "execute_result"
    }
   ],
   "source": [
    "time_horizon = np.timedelta64(1, 'D')\n",
    "roi_1day = return_on_investment(sp500, time_horizon).sort_values(by=\"ROI\")\n",
    "roi_1day.head(10)"
   ]
  },
  {
   "cell_type": "markdown",
   "metadata": {},
   "source": [
    "## How dangerous is investing in the S&P 500?"
   ]
  },
  {
   "cell_type": "markdown",
   "metadata": {},
   "source": [
    "roi_1day = return_on_investment(sp500, np.timedelta64(1, 'D')).sort_values(by=\"ROI\")"
   ]
  },
  {
   "cell_type": "code",
   "execution_count": 269,
   "metadata": {},
   "outputs": [
    {
     "data": {
      "text/html": [
       "<div>\n",
       "<style scoped>\n",
       "    .dataframe tbody tr th:only-of-type {\n",
       "        vertical-align: middle;\n",
       "    }\n",
       "\n",
       "    .dataframe tbody tr th {\n",
       "        vertical-align: top;\n",
       "    }\n",
       "\n",
       "    .dataframe thead tr th {\n",
       "        text-align: left;\n",
       "    }\n",
       "</style>\n",
       "<table border=\"1\" class=\"dataframe\">\n",
       "  <thead>\n",
       "    <tr>\n",
       "      <th></th>\n",
       "      <th>d</th>\n",
       "      <th>b</th>\n",
       "    </tr>\n",
       "    <tr>\n",
       "      <th></th>\n",
       "      <th>ROI</th>\n",
       "      <th>ROI</th>\n",
       "    </tr>\n",
       "  </thead>\n",
       "  <tbody>\n",
       "    <tr>\n",
       "      <th>count</th>\n",
       "      <td>14052.000000</td>\n",
       "      <td>12226.000000</td>\n",
       "    </tr>\n",
       "    <tr>\n",
       "      <th>mean</th>\n",
       "      <td>71.891207</td>\n",
       "      <td>192.477958</td>\n",
       "    </tr>\n",
       "    <tr>\n",
       "      <th>std</th>\n",
       "      <td>63.750842</td>\n",
       "      <td>162.671211</td>\n",
       "    </tr>\n",
       "    <tr>\n",
       "      <th>min</th>\n",
       "      <td>-40.904088</td>\n",
       "      <td>6.327543</td>\n",
       "    </tr>\n",
       "    <tr>\n",
       "      <th>25%</th>\n",
       "      <td>20.024520</td>\n",
       "      <td>58.993788</td>\n",
       "    </tr>\n",
       "    <tr>\n",
       "      <th>50%</th>\n",
       "      <td>57.070138</td>\n",
       "      <td>150.720336</td>\n",
       "    </tr>\n",
       "    <tr>\n",
       "      <th>75%</th>\n",
       "      <td>118.098674</td>\n",
       "      <td>273.523598</td>\n",
       "    </tr>\n",
       "    <tr>\n",
       "      <th>max</th>\n",
       "      <td>262.268398</td>\n",
       "      <td>754.894846</td>\n",
       "    </tr>\n",
       "  </tbody>\n",
       "</table>\n",
       "</div>"
      ],
      "text/plain": [
       "                  d             b\n",
       "                ROI           ROI\n",
       "count  14052.000000  12226.000000\n",
       "mean      71.891207    192.477958\n",
       "std       63.750842    162.671211\n",
       "min      -40.904088      6.327543\n",
       "25%       20.024520     58.993788\n",
       "50%       57.070138    150.720336\n",
       "75%      118.098674    273.523598\n",
       "max      262.268398    754.894846"
      ]
     },
     "execution_count": 269,
     "metadata": {},
     "output_type": "execute_result"
    }
   ],
   "source": [
    "roi_5year = return_on_investment(sp500, np.timedelta64(5, 'Y'))\n",
    "roi_10year = return_on_investment(sp500, np.timedelta64(10, 'Y'))\n",
    "pd.concat([roi_5year.describe(), roi_10year.describe()],axis=1, keys=['d','b'])"
   ]
  },
  {
   "cell_type": "code",
   "execution_count": 261,
   "metadata": {},
   "outputs": [
    {
     "data": {
      "text/plain": [
       "Index(['count', 'mean', 'std', 'min', '25%', '50%', '75%', 'max'], dtype='object')"
      ]
     },
     "execution_count": 261,
     "metadata": {},
     "output_type": "execute_result"
    }
   ],
   "source": [
    "df.index"
   ]
  },
  {
   "cell_type": "code",
   "execution_count": 86,
   "metadata": {},
   "outputs": [
    {
     "data": {
      "text/html": [
       "<div>\n",
       "<style scoped>\n",
       "    .dataframe tbody tr th:only-of-type {\n",
       "        vertical-align: middle;\n",
       "    }\n",
       "\n",
       "    .dataframe tbody tr th {\n",
       "        vertical-align: top;\n",
       "    }\n",
       "\n",
       "    .dataframe thead th {\n",
       "        text-align: right;\n",
       "    }\n",
       "</style>\n",
       "<table border=\"1\" class=\"dataframe\">\n",
       "  <thead>\n",
       "    <tr style=\"text-align: right;\">\n",
       "      <th></th>\n",
       "      <th>Percent</th>\n",
       "    </tr>\n",
       "  </thead>\n",
       "  <tbody>\n",
       "    <tr>\n",
       "      <th>count</th>\n",
       "      <td>14619.000000</td>\n",
       "    </tr>\n",
       "    <tr>\n",
       "      <th>mean</th>\n",
       "      <td>46.287203</td>\n",
       "    </tr>\n",
       "    <tr>\n",
       "      <th>std</th>\n",
       "      <td>47.765615</td>\n",
       "    </tr>\n",
       "    <tr>\n",
       "      <th>min</th>\n",
       "      <td>-41.027720</td>\n",
       "    </tr>\n",
       "    <tr>\n",
       "      <th>25%</th>\n",
       "      <td>6.905836</td>\n",
       "    </tr>\n",
       "    <tr>\n",
       "      <th>50%</th>\n",
       "      <td>44.945355</td>\n",
       "    </tr>\n",
       "    <tr>\n",
       "      <th>75%</th>\n",
       "      <td>71.146681</td>\n",
       "    </tr>\n",
       "    <tr>\n",
       "      <th>max</th>\n",
       "      <td>224.883041</td>\n",
       "    </tr>\n",
       "  </tbody>\n",
       "</table>\n",
       "</div>"
      ],
      "text/plain": [
       "            Percent\n",
       "count  14619.000000\n",
       "mean      46.287203\n",
       "std       47.765615\n",
       "min      -41.027720\n",
       "25%        6.905836\n",
       "50%       44.945355\n",
       "75%       71.146681\n",
       "max      224.883041"
      ]
     },
     "execution_count": 86,
     "metadata": {},
     "output_type": "execute_result"
    }
   ],
   "source": [
    "roi_5year = return_on_investment(sp500, np.timedelta64(5, 'Y'))\n",
    "roi_5year.describe()"
   ]
  },
  {
   "cell_type": "code",
   "execution_count": 87,
   "metadata": {},
   "outputs": [
    {
     "data": {
      "text/html": [
       "<div>\n",
       "<style scoped>\n",
       "    .dataframe tbody tr th:only-of-type {\n",
       "        vertical-align: middle;\n",
       "    }\n",
       "\n",
       "    .dataframe tbody tr th {\n",
       "        vertical-align: top;\n",
       "    }\n",
       "\n",
       "    .dataframe thead th {\n",
       "        text-align: right;\n",
       "    }\n",
       "</style>\n",
       "<table border=\"1\" class=\"dataframe\">\n",
       "  <thead>\n",
       "    <tr style=\"text-align: right;\">\n",
       "      <th></th>\n",
       "      <th>Percent</th>\n",
       "    </tr>\n",
       "  </thead>\n",
       "  <tbody>\n",
       "    <tr>\n",
       "      <th>count</th>\n",
       "      <td>13361.000000</td>\n",
       "    </tr>\n",
       "    <tr>\n",
       "      <th>mean</th>\n",
       "      <td>109.033348</td>\n",
       "    </tr>\n",
       "    <tr>\n",
       "      <th>std</th>\n",
       "      <td>90.546124</td>\n",
       "    </tr>\n",
       "    <tr>\n",
       "      <th>min</th>\n",
       "      <td>-47.427031</td>\n",
       "    </tr>\n",
       "    <tr>\n",
       "      <th>25%</th>\n",
       "      <td>38.555692</td>\n",
       "    </tr>\n",
       "    <tr>\n",
       "      <th>50%</th>\n",
       "      <td>90.266909</td>\n",
       "    </tr>\n",
       "    <tr>\n",
       "      <th>75%</th>\n",
       "      <td>179.018613</td>\n",
       "    </tr>\n",
       "    <tr>\n",
       "      <th>max</th>\n",
       "      <td>387.894874</td>\n",
       "    </tr>\n",
       "  </tbody>\n",
       "</table>\n",
       "</div>"
      ],
      "text/plain": [
       "            Percent\n",
       "count  13361.000000\n",
       "mean     109.033348\n",
       "std       90.546124\n",
       "min      -47.427031\n",
       "25%       38.555692\n",
       "50%       90.266909\n",
       "75%      179.018613\n",
       "max      387.894874"
      ]
     },
     "execution_count": 87,
     "metadata": {},
     "output_type": "execute_result"
    }
   ],
   "source": [
    "roi_5year = return_on_investment(sp500, np.timedelta64(10, 'Y'))\n",
    "roi_5year.describe()"
   ]
  },
  {
   "cell_type": "code",
   "execution_count": 88,
   "metadata": {},
   "outputs": [
    {
     "data": {
      "text/html": [
       "<div>\n",
       "<style scoped>\n",
       "    .dataframe tbody tr th:only-of-type {\n",
       "        vertical-align: middle;\n",
       "    }\n",
       "\n",
       "    .dataframe tbody tr th {\n",
       "        vertical-align: top;\n",
       "    }\n",
       "\n",
       "    .dataframe thead th {\n",
       "        text-align: right;\n",
       "    }\n",
       "</style>\n",
       "<table border=\"1\" class=\"dataframe\">\n",
       "  <thead>\n",
       "    <tr style=\"text-align: right;\">\n",
       "      <th></th>\n",
       "      <th>Percent</th>\n",
       "    </tr>\n",
       "  </thead>\n",
       "  <tbody>\n",
       "    <tr>\n",
       "      <th>1999-03-10</th>\n",
       "      <td>-47.427031</td>\n",
       "    </tr>\n",
       "    <tr>\n",
       "      <th>1999-03-09</th>\n",
       "      <td>-47.139486</td>\n",
       "    </tr>\n",
       "    <tr>\n",
       "      <th>1999-03-08</th>\n",
       "      <td>-46.724564</td>\n",
       "    </tr>\n",
       "    <tr>\n",
       "      <th>1999-03-11</th>\n",
       "      <td>-44.547192</td>\n",
       "    </tr>\n",
       "    <tr>\n",
       "      <th>1999-03-12</th>\n",
       "      <td>-44.278884</td>\n",
       "    </tr>\n",
       "    <tr>\n",
       "      <th>...</th>\n",
       "      <td>...</td>\n",
       "    </tr>\n",
       "    <tr>\n",
       "      <th>1990-08-30</th>\n",
       "      <td>373.734743</td>\n",
       "    </tr>\n",
       "    <tr>\n",
       "      <th>1990-09-27</th>\n",
       "      <td>374.203409</td>\n",
       "    </tr>\n",
       "    <tr>\n",
       "      <th>1990-09-24</th>\n",
       "      <td>375.629535</td>\n",
       "    </tr>\n",
       "    <tr>\n",
       "      <th>1990-08-24</th>\n",
       "      <td>383.441944</td>\n",
       "    </tr>\n",
       "    <tr>\n",
       "      <th>1990-08-23</th>\n",
       "      <td>387.894874</td>\n",
       "    </tr>\n",
       "  </tbody>\n",
       "</table>\n",
       "<p>13361 rows × 1 columns</p>\n",
       "</div>"
      ],
      "text/plain": [
       "               Percent\n",
       "1999-03-10  -47.427031\n",
       "1999-03-09  -47.139486\n",
       "1999-03-08  -46.724564\n",
       "1999-03-11  -44.547192\n",
       "1999-03-12  -44.278884\n",
       "...                ...\n",
       "1990-08-30  373.734743\n",
       "1990-09-27  374.203409\n",
       "1990-09-24  375.629535\n",
       "1990-08-24  383.441944\n",
       "1990-08-23  387.894874\n",
       "\n",
       "[13361 rows x 1 columns]"
      ]
     },
     "execution_count": 88,
     "metadata": {},
     "output_type": "execute_result"
    }
   ],
   "source": [
    "roi_5year"
   ]
  },
  {
   "cell_type": "code",
   "execution_count": 17,
   "metadata": {},
   "outputs": [
    {
     "data": {
      "text/html": [
       "<div>\n",
       "<style scoped>\n",
       "    .dataframe tbody tr th:only-of-type {\n",
       "        vertical-align: middle;\n",
       "    }\n",
       "\n",
       "    .dataframe tbody tr th {\n",
       "        vertical-align: top;\n",
       "    }\n",
       "\n",
       "    .dataframe thead th {\n",
       "        text-align: right;\n",
       "    }\n",
       "</style>\n",
       "<table border=\"1\" class=\"dataframe\">\n",
       "  <thead>\n",
       "    <tr style=\"text-align: right;\">\n",
       "      <th></th>\n",
       "      <th>Percent</th>\n",
       "    </tr>\n",
       "  </thead>\n",
       "  <tbody>\n",
       "    <tr>\n",
       "      <th>2004-03-08</th>\n",
       "      <td>0.589723</td>\n",
       "    </tr>\n",
       "    <tr>\n",
       "      <th>2004-03-05</th>\n",
       "      <td>0.590002</td>\n",
       "    </tr>\n",
       "    <tr>\n",
       "      <th>2004-03-09</th>\n",
       "      <td>0.593146</td>\n",
       "    </tr>\n",
       "    <tr>\n",
       "      <th>2004-03-03</th>\n",
       "      <td>0.604963</td>\n",
       "    </tr>\n",
       "    <tr>\n",
       "      <th>2004-03-01</th>\n",
       "      <td>0.606261</td>\n",
       "    </tr>\n",
       "    <tr>\n",
       "      <th>...</th>\n",
       "      <td>...</td>\n",
       "    </tr>\n",
       "    <tr>\n",
       "      <th>1982-08-10</th>\n",
       "      <td>3.189420</td>\n",
       "    </tr>\n",
       "    <tr>\n",
       "      <th>1982-08-16</th>\n",
       "      <td>3.209818</td>\n",
       "    </tr>\n",
       "    <tr>\n",
       "      <th>1982-08-13</th>\n",
       "      <td>3.222436</td>\n",
       "    </tr>\n",
       "    <tr>\n",
       "      <th>1982-08-12</th>\n",
       "      <td>3.245362</td>\n",
       "    </tr>\n",
       "    <tr>\n",
       "      <th>1982-08-11</th>\n",
       "      <td>3.248830</td>\n",
       "    </tr>\n",
       "  </tbody>\n",
       "</table>\n",
       "<p>15878 rows × 1 columns</p>\n",
       "</div>"
      ],
      "text/plain": [
       "             Percent\n",
       "2004-03-08  0.589723\n",
       "2004-03-05  0.590002\n",
       "2004-03-09  0.593146\n",
       "2004-03-03  0.604963\n",
       "2004-03-01  0.606261\n",
       "...              ...\n",
       "1982-08-10  3.189420\n",
       "1982-08-16  3.209818\n",
       "1982-08-13  3.222436\n",
       "1982-08-12  3.245362\n",
       "1982-08-11  3.248830\n",
       "\n",
       "[15878 rows x 1 columns]"
      ]
     },
     "execution_count": 17,
     "metadata": {},
     "output_type": "execute_result"
    }
   ],
   "source": [
    "find_worst_times(sp500, np.timedelta64(5, 'Y'))"
   ]
  },
  {
   "cell_type": "code",
   "execution_count": 42,
   "metadata": {},
   "outputs": [
    {
     "data": {
      "text/plain": [
       "<matplotlib.axes._subplots.AxesSubplot at 0x1301f9880>"
      ]
     },
     "execution_count": 42,
     "metadata": {},
     "output_type": "execute_result"
    },
    {
     "data": {
      "image/png": "[encoded data removed]",
      "text/plain": [
       "<Figure size 432x288 with 1 Axes>"
      ]
     },
     "metadata": {},
     "output_type": "display_data"
    }
   ],
   "source": [
    "sp500[\"Close\"].plot()"
   ]
  },
  {
   "cell_type": "code",
   "execution_count": 36,
   "metadata": {},
   "outputs": [],
   "source": [
    "?sns.scatterplot"
   ]
  },
  {
   "cell_type": "code",
   "execution_count": 40,
   "metadata": {},
   "outputs": [
    {
     "data": {
      "text/plain": [
       "<matplotlib.axes._subplots.AxesSubplot at 0x131096fa0>"
      ]
     },
     "execution_count": 40,
     "metadata": {},
     "output_type": "execute_result"
    },
    {
     "data": {
      "image/png": "[encoded data removed]",
      "text/plain": [
       "<Figure size 432x288 with 1 Axes>"
      ]
     },
     "metadata": {},
     "output_type": "display_data"
    }
   ],
   "source": [
    "sns.lineplot(x=sp500.index, y=\"Close\", data=sp500)"
   ]
  },
  {
   "cell_type": "code",
   "execution_count": 10,
   "metadata": {
    "scrolled": true
   },
   "outputs": [
    {
     "data": {
      "text/plain": [
       "<matplotlib.axes._subplots.AxesSubplot at 0x12ed155e0>"
      ]
     },
     "execution_count": 10,
     "metadata": {},
     "output_type": "execute_result"
    },
    {
     "data": {
      "image/png": "[encoded data removed]",
      "text/plain": [
       "<Figure size 432x288 with 1 Axes>"
      ]
     },
     "metadata": {},
     "output_type": "display_data"
    }
   ],
   "source": [
    ".plot()"
   ]
  },
  {
   "cell_type": "code",
   "execution_count": null,
   "metadata": {},
   "outputs": [],
   "source": []
  },
  {
   "cell_type": "markdown",
   "metadata": {},
   "source": [
    "### Personal Investment Returns"
   ]
  },
  {
   "cell_type": "code",
   "execution_count": 3,
   "metadata": {},
   "outputs": [
    {
     "data": {
      "text/html": [
       "<div>\n",
       "<style scoped>\n",
       "    .dataframe tbody tr th:only-of-type {\n",
       "        vertical-align: middle;\n",
       "    }\n",
       "\n",
       "    .dataframe tbody tr th {\n",
       "        vertical-align: top;\n",
       "    }\n",
       "\n",
       "    .dataframe thead th {\n",
       "        text-align: right;\n",
       "    }\n",
       "</style>\n",
       "<table border=\"1\" class=\"dataframe\">\n",
       "  <thead>\n",
       "    <tr style=\"text-align: right;\">\n",
       "      <th></th>\n",
       "      <th>DATE</th>\n",
       "      <th>CPIAUCSL</th>\n",
       "    </tr>\n",
       "  </thead>\n",
       "  <tbody>\n",
       "    <tr>\n",
       "      <th>0</th>\n",
       "      <td>1947-01-01</td>\n",
       "      <td>21.480</td>\n",
       "    </tr>\n",
       "    <tr>\n",
       "      <th>1</th>\n",
       "      <td>1947-02-01</td>\n",
       "      <td>21.620</td>\n",
       "    </tr>\n",
       "    <tr>\n",
       "      <th>2</th>\n",
       "      <td>1947-03-01</td>\n",
       "      <td>22.000</td>\n",
       "    </tr>\n",
       "    <tr>\n",
       "      <th>3</th>\n",
       "      <td>1947-04-01</td>\n",
       "      <td>22.000</td>\n",
       "    </tr>\n",
       "    <tr>\n",
       "      <th>4</th>\n",
       "      <td>1947-05-01</td>\n",
       "      <td>21.950</td>\n",
       "    </tr>\n",
       "    <tr>\n",
       "      <th>...</th>\n",
       "      <td>...</td>\n",
       "      <td>...</td>\n",
       "    </tr>\n",
       "    <tr>\n",
       "      <th>873</th>\n",
       "      <td>2019-10-01</td>\n",
       "      <td>257.229</td>\n",
       "    </tr>\n",
       "    <tr>\n",
       "      <th>874</th>\n",
       "      <td>2019-11-01</td>\n",
       "      <td>257.824</td>\n",
       "    </tr>\n",
       "    <tr>\n",
       "      <th>875</th>\n",
       "      <td>2019-12-01</td>\n",
       "      <td>258.444</td>\n",
       "    </tr>\n",
       "    <tr>\n",
       "      <th>876</th>\n",
       "      <td>2020-01-01</td>\n",
       "      <td>258.820</td>\n",
       "    </tr>\n",
       "    <tr>\n",
       "      <th>877</th>\n",
       "      <td>2020-02-01</td>\n",
       "      <td>259.050</td>\n",
       "    </tr>\n",
       "  </tbody>\n",
       "</table>\n",
       "<p>878 rows × 2 columns</p>\n",
       "</div>"
      ],
      "text/plain": [
       "           DATE  CPIAUCSL\n",
       "0    1947-01-01    21.480\n",
       "1    1947-02-01    21.620\n",
       "2    1947-03-01    22.000\n",
       "3    1947-04-01    22.000\n",
       "4    1947-05-01    21.950\n",
       "..          ...       ...\n",
       "873  2019-10-01   257.229\n",
       "874  2019-11-01   257.824\n",
       "875  2019-12-01   258.444\n",
       "876  2020-01-01   258.820\n",
       "877  2020-02-01   259.050\n",
       "\n",
       "[878 rows x 2 columns]"
      ]
     },
     "execution_count": 3,
     "metadata": {},
     "output_type": "execute_result"
    }
   ],
   "source": [
    "pd.read_csv(\"https://bit.ly/3axwStd\")"
   ]
  },
  {
   "cell_type": "markdown",
   "metadata": {},
   "source": [
    "## Constituent Data"
   ]
  },
  {
   "cell_type": "markdown",
   "metadata": {},
   "source": [
    "Obtaining the list of companies that make up the S&P 500 is surprisingly hard. For example, Standard and Poor don't give easy access to this list on their site. Luckily, [Wikipedia maintains a table of companies](https://en.wikipedia.org/wiki/List_of_S%26P_500_companies) that make up the index. Pandas has a powerful function for parsing HTML tables like those on Wikipedia, `read_html`:"
   ]
  },
  {
   "cell_type": "code",
   "execution_count": 312,
   "metadata": {
    "scrolled": true
   },
   "outputs": [
    {
     "data": {
      "text/html": [
       "<div>\n",
       "<style scoped>\n",
       "    .dataframe tbody tr th:only-of-type {\n",
       "        vertical-align: middle;\n",
       "    }\n",
       "\n",
       "    .dataframe tbody tr th {\n",
       "        vertical-align: top;\n",
       "    }\n",
       "\n",
       "    .dataframe thead th {\n",
       "        text-align: right;\n",
       "    }\n",
       "</style>\n",
       "<table border=\"1\" class=\"dataframe\">\n",
       "  <thead>\n",
       "    <tr style=\"text-align: right;\">\n",
       "      <th></th>\n",
       "      <th>Symbol</th>\n",
       "      <th>Security</th>\n",
       "      <th>SEC filings</th>\n",
       "      <th>GICS Sector</th>\n",
       "      <th>GICS Sub Industry</th>\n",
       "      <th>Headquarters Location</th>\n",
       "      <th>Date first added</th>\n",
       "      <th>CIK</th>\n",
       "      <th>Founded</th>\n",
       "    </tr>\n",
       "  </thead>\n",
       "  <tbody>\n",
       "    <tr>\n",
       "      <th>0</th>\n",
       "      <td>MMM</td>\n",
       "      <td>3M Company</td>\n",
       "      <td>reports</td>\n",
       "      <td>Industrials</td>\n",
       "      <td>Industrial Conglomerates</td>\n",
       "      <td>St. Paul, Minnesota</td>\n",
       "      <td>1976-08-09</td>\n",
       "      <td>66740</td>\n",
       "      <td>1902</td>\n",
       "    </tr>\n",
       "    <tr>\n",
       "      <th>1</th>\n",
       "      <td>ABT</td>\n",
       "      <td>Abbott Laboratories</td>\n",
       "      <td>reports</td>\n",
       "      <td>Health Care</td>\n",
       "      <td>Health Care Equipment</td>\n",
       "      <td>North Chicago, Illinois</td>\n",
       "      <td>1964-03-31</td>\n",
       "      <td>1800</td>\n",
       "      <td>1888</td>\n",
       "    </tr>\n",
       "    <tr>\n",
       "      <th>2</th>\n",
       "      <td>ABBV</td>\n",
       "      <td>AbbVie Inc.</td>\n",
       "      <td>reports</td>\n",
       "      <td>Health Care</td>\n",
       "      <td>Pharmaceuticals</td>\n",
       "      <td>North Chicago, Illinois</td>\n",
       "      <td>2012-12-31</td>\n",
       "      <td>1551152</td>\n",
       "      <td>2013 (1888)</td>\n",
       "    </tr>\n",
       "    <tr>\n",
       "      <th>3</th>\n",
       "      <td>ABMD</td>\n",
       "      <td>ABIOMED Inc</td>\n",
       "      <td>reports</td>\n",
       "      <td>Health Care</td>\n",
       "      <td>Health Care Equipment</td>\n",
       "      <td>Danvers, Massachusetts</td>\n",
       "      <td>2018-05-31</td>\n",
       "      <td>815094</td>\n",
       "      <td>1981</td>\n",
       "    </tr>\n",
       "    <tr>\n",
       "      <th>4</th>\n",
       "      <td>ACN</td>\n",
       "      <td>Accenture plc</td>\n",
       "      <td>reports</td>\n",
       "      <td>Information Technology</td>\n",
       "      <td>IT Consulting &amp; Other Services</td>\n",
       "      <td>Dublin, Ireland</td>\n",
       "      <td>2011-07-06</td>\n",
       "      <td>1467373</td>\n",
       "      <td>1989</td>\n",
       "    </tr>\n",
       "  </tbody>\n",
       "</table>\n",
       "</div>"
      ],
      "text/plain": [
       "  Symbol             Security SEC filings             GICS Sector  \\\n",
       "0    MMM           3M Company     reports             Industrials   \n",
       "1    ABT  Abbott Laboratories     reports             Health Care   \n",
       "2   ABBV          AbbVie Inc.     reports             Health Care   \n",
       "3   ABMD          ABIOMED Inc     reports             Health Care   \n",
       "4    ACN        Accenture plc     reports  Information Technology   \n",
       "\n",
       "                GICS Sub Industry    Headquarters Location Date first added  \\\n",
       "0        Industrial Conglomerates      St. Paul, Minnesota       1976-08-09   \n",
       "1           Health Care Equipment  North Chicago, Illinois       1964-03-31   \n",
       "2                 Pharmaceuticals  North Chicago, Illinois       2012-12-31   \n",
       "3           Health Care Equipment   Danvers, Massachusetts       2018-05-31   \n",
       "4  IT Consulting & Other Services          Dublin, Ireland       2011-07-06   \n",
       "\n",
       "       CIK      Founded  \n",
       "0    66740         1902  \n",
       "1     1800         1888  \n",
       "2  1551152  2013 (1888)  \n",
       "3   815094         1981  \n",
       "4  1467373         1989  "
      ]
     },
     "execution_count": 312,
     "metadata": {},
     "output_type": "execute_result"
    }
   ],
   "source": [
    "sp500_constituents = pd.read_html(\"https://en.wikipedia.org/wiki/List_of_S%26P_500_companies\")[0]\n",
    "sp500_constituents.head()"
   ]
  },
  {
   "cell_type": "markdown",
   "metadata": {},
   "source": [
    "One surprising fact is that the S&P 500 is [actually composed of 505 companies](https://www.cnbc.com/2015/08/11/sp-500-soon-to-have-505-listed-shares.html):"
   ]
  },
  {
   "cell_type": "code",
   "execution_count": 313,
   "metadata": {},
   "outputs": [
    {
     "data": {
      "text/plain": [
       "505"
      ]
     },
     "execution_count": 313,
     "metadata": {},
     "output_type": "execute_result"
    }
   ],
   "source": [
    "len(sp500_constituents)"
   ]
  },
  {
   "cell_type": "markdown",
   "metadata": {},
   "source": [
    "We want to download the timeseries data for each of these individual stocks. One quirk of the Yahoo API is that it does not accept dots (`.`) in symbol names, and:"
   ]
  },
  {
   "cell_type": "code",
   "execution_count": 314,
   "metadata": {},
   "outputs": [
    {
     "data": {
      "text/html": [
       "<div>\n",
       "<style scoped>\n",
       "    .dataframe tbody tr th:only-of-type {\n",
       "        vertical-align: middle;\n",
       "    }\n",
       "\n",
       "    .dataframe tbody tr th {\n",
       "        vertical-align: top;\n",
       "    }\n",
       "\n",
       "    .dataframe thead th {\n",
       "        text-align: right;\n",
       "    }\n",
       "</style>\n",
       "<table border=\"1\" class=\"dataframe\">\n",
       "  <thead>\n",
       "    <tr style=\"text-align: right;\">\n",
       "      <th></th>\n",
       "      <th>Symbol</th>\n",
       "      <th>Security</th>\n",
       "      <th>SEC filings</th>\n",
       "      <th>GICS Sector</th>\n",
       "      <th>GICS Sub Industry</th>\n",
       "      <th>Headquarters Location</th>\n",
       "      <th>Date first added</th>\n",
       "      <th>CIK</th>\n",
       "      <th>Founded</th>\n",
       "    </tr>\n",
       "  </thead>\n",
       "  <tbody>\n",
       "    <tr>\n",
       "      <th>69</th>\n",
       "      <td>BRK.B</td>\n",
       "      <td>Berkshire Hathaway</td>\n",
       "      <td>reports</td>\n",
       "      <td>Financials</td>\n",
       "      <td>Multi-Sector Holdings</td>\n",
       "      <td>Omaha, Nebraska</td>\n",
       "      <td>2010-02-16</td>\n",
       "      <td>1067983</td>\n",
       "      <td>NaN</td>\n",
       "    </tr>\n",
       "    <tr>\n",
       "      <th>81</th>\n",
       "      <td>BF.B</td>\n",
       "      <td>Brown-Forman Corp.</td>\n",
       "      <td>reports</td>\n",
       "      <td>Consumer Staples</td>\n",
       "      <td>Distillers &amp; Vintners</td>\n",
       "      <td>Louisville, Kentucky</td>\n",
       "      <td>1982-10-31</td>\n",
       "      <td>14693</td>\n",
       "      <td>NaN</td>\n",
       "    </tr>\n",
       "  </tbody>\n",
       "</table>\n",
       "</div>"
      ],
      "text/plain": [
       "   Symbol            Security SEC filings       GICS Sector  \\\n",
       "69  BRK.B  Berkshire Hathaway     reports        Financials   \n",
       "81   BF.B  Brown-Forman Corp.     reports  Consumer Staples   \n",
       "\n",
       "        GICS Sub Industry Headquarters Location Date first added      CIK  \\\n",
       "69  Multi-Sector Holdings       Omaha, Nebraska       2010-02-16  1067983   \n",
       "81  Distillers & Vintners  Louisville, Kentucky       1982-10-31    14693   \n",
       "\n",
       "   Founded  \n",
       "69     NaN  \n",
       "81     NaN  "
      ]
     },
     "execution_count": 314,
     "metadata": {},
     "output_type": "execute_result"
    }
   ],
   "source": [
    "sp500_constituents.loc[sp500_constituents['Symbol'].str.contains(\"\\.\")]"
   ]
  },
  {
   "cell_type": "markdown",
   "metadata": {},
   "source": [
    "Let us replace this with a dash `-`: "
   ]
  },
  {
   "cell_type": "code",
   "execution_count": 315,
   "metadata": {},
   "outputs": [],
   "source": [
    "sp500_constituents[\"Symbol\"] = sp500_constituents[\"Symbol\"].str.replace(\"\\.\", \"-\")"
   ]
  },
  {
   "cell_type": "markdown",
   "metadata": {},
   "source": [
    "Now we are ready to download all of the stock data:"
   ]
  },
  {
   "cell_type": "code",
   "execution_count": 415,
   "metadata": {},
   "outputs": [
    {
     "data": {
      "text/html": [
       "<div>\n",
       "<style scoped>\n",
       "    .dataframe tbody tr th:only-of-type {\n",
       "        vertical-align: middle;\n",
       "    }\n",
       "\n",
       "    .dataframe tbody tr th {\n",
       "        vertical-align: top;\n",
       "    }\n",
       "\n",
       "    .dataframe thead th {\n",
       "        text-align: right;\n",
       "    }\n",
       "</style>\n",
       "<table border=\"1\" class=\"dataframe\">\n",
       "  <thead>\n",
       "    <tr style=\"text-align: right;\">\n",
       "      <th></th>\n",
       "      <th>a</th>\n",
       "      <th>variable</th>\n",
       "      <th>value</th>\n",
       "    </tr>\n",
       "  </thead>\n",
       "  <tbody>\n",
       "    <tr>\n",
       "      <th>0</th>\n",
       "      <td>4</td>\n",
       "      <td>b</td>\n",
       "      <td>7</td>\n",
       "    </tr>\n",
       "    <tr>\n",
       "      <th>1</th>\n",
       "      <td>5</td>\n",
       "      <td>b</td>\n",
       "      <td>8</td>\n",
       "    </tr>\n",
       "    <tr>\n",
       "      <th>2</th>\n",
       "      <td>6</td>\n",
       "      <td>b</td>\n",
       "      <td>9</td>\n",
       "    </tr>\n",
       "    <tr>\n",
       "      <th>3</th>\n",
       "      <td>4</td>\n",
       "      <td>c</td>\n",
       "      <td>10</td>\n",
       "    </tr>\n",
       "    <tr>\n",
       "      <th>4</th>\n",
       "      <td>5</td>\n",
       "      <td>c</td>\n",
       "      <td>asdf</td>\n",
       "    </tr>\n",
       "    <tr>\n",
       "      <th>5</th>\n",
       "      <td>6</td>\n",
       "      <td>c</td>\n",
       "      <td>12</td>\n",
       "    </tr>\n",
       "  </tbody>\n",
       "</table>\n",
       "</div>"
      ],
      "text/plain": [
       "   a variable value\n",
       "0  4        b     7\n",
       "1  5        b     8\n",
       "2  6        b     9\n",
       "3  4        c    10\n",
       "4  5        c  asdf\n",
       "5  6        c    12"
      ]
     },
     "execution_count": 415,
     "metadata": {},
     "output_type": "execute_result"
    }
   ],
   "source": [
    "df = pd.DataFrame(\n",
    "{\"a\" : [4 ,5, 6],\n",
    "\"b\" : [7, 8, 9],\n",
    "\"c\" : [10, \"asdf\", 12]},\n",
    "index = [1, 2, 3])\n",
    "\n",
    "pd.melt(df, id_vars=[\"a\"], value_vars=[\"b\", \"c\"])"
   ]
  },
  {
   "cell_type": "code",
   "execution_count": 421,
   "metadata": {},
   "outputs": [
    {
     "data": {
      "text/html": [
       "<div>\n",
       "<style scoped>\n",
       "    .dataframe tbody tr th:only-of-type {\n",
       "        vertical-align: middle;\n",
       "    }\n",
       "\n",
       "    .dataframe tbody tr th {\n",
       "        vertical-align: top;\n",
       "    }\n",
       "\n",
       "    .dataframe thead th {\n",
       "        text-align: right;\n",
       "    }\n",
       "</style>\n",
       "<table border=\"1\" class=\"dataframe\">\n",
       "  <thead>\n",
       "    <tr style=\"text-align: right;\">\n",
       "      <th></th>\n",
       "      <th>a</th>\n",
       "      <th>b</th>\n",
       "      <th>c</th>\n",
       "    </tr>\n",
       "  </thead>\n",
       "  <tbody>\n",
       "    <tr>\n",
       "      <th>1</th>\n",
       "      <td>4</td>\n",
       "      <td>7</td>\n",
       "      <td>10</td>\n",
       "    </tr>\n",
       "    <tr>\n",
       "      <th>2</th>\n",
       "      <td>5</td>\n",
       "      <td>8</td>\n",
       "      <td>asdf</td>\n",
       "    </tr>\n",
       "    <tr>\n",
       "      <th>3</th>\n",
       "      <td>6</td>\n",
       "      <td>9</td>\n",
       "      <td>12</td>\n",
       "    </tr>\n",
       "  </tbody>\n",
       "</table>\n",
       "</div>"
      ],
      "text/plain": [
       "   a  b     c\n",
       "1  4  7    10\n",
       "2  5  8  asdf\n",
       "3  6  9    12"
      ]
     },
     "execution_count": 421,
     "metadata": {},
     "output_type": "execute_result"
    }
   ],
   "source": [
    "df"
   ]
  },
  {
   "cell_type": "code",
   "execution_count": 433,
   "metadata": {},
   "outputs": [
    {
     "data": {
      "text/plain": [
       "a       5\n",
       "b       8\n",
       "c    asdf\n",
       "Name: 2, dtype: object"
      ]
     },
     "execution_count": 433,
     "metadata": {},
     "output_type": "execute_result"
    }
   ],
   "source": [
    "df.loc[2]"
   ]
  },
  {
   "cell_type": "code",
   "execution_count": 358,
   "metadata": {},
   "outputs": [
    {
     "name": "stdout",
     "output_type": "stream",
     "text": [
      "[*********************100%***********************]  505 of 505 completed\n"
     ]
    },
    {
     "data": {
      "text/html": [
       "<div>\n",
       "<style scoped>\n",
       "    .dataframe tbody tr th:only-of-type {\n",
       "        vertical-align: middle;\n",
       "    }\n",
       "\n",
       "    .dataframe tbody tr th {\n",
       "        vertical-align: top;\n",
       "    }\n",
       "\n",
       "    .dataframe thead tr th {\n",
       "        text-align: left;\n",
       "    }\n",
       "\n",
       "    .dataframe thead tr:last-of-type th {\n",
       "        text-align: right;\n",
       "    }\n",
       "</style>\n",
       "<table border=\"1\" class=\"dataframe\">\n",
       "  <thead>\n",
       "    <tr>\n",
       "      <th></th>\n",
       "      <th colspan=\"10\" halign=\"left\">Adj Close</th>\n",
       "      <th>...</th>\n",
       "      <th colspan=\"10\" halign=\"left\">Volume</th>\n",
       "    </tr>\n",
       "    <tr>\n",
       "      <th></th>\n",
       "      <th>A</th>\n",
       "      <th>AAL</th>\n",
       "      <th>AAP</th>\n",
       "      <th>AAPL</th>\n",
       "      <th>ABBV</th>\n",
       "      <th>ABC</th>\n",
       "      <th>ABMD</th>\n",
       "      <th>ABT</th>\n",
       "      <th>ACN</th>\n",
       "      <th>ADBE</th>\n",
       "      <th>...</th>\n",
       "      <th>XLNX</th>\n",
       "      <th>XOM</th>\n",
       "      <th>XRAY</th>\n",
       "      <th>XRX</th>\n",
       "      <th>XYL</th>\n",
       "      <th>YUM</th>\n",
       "      <th>ZBH</th>\n",
       "      <th>ZBRA</th>\n",
       "      <th>ZION</th>\n",
       "      <th>ZTS</th>\n",
       "    </tr>\n",
       "    <tr>\n",
       "      <th>Date</th>\n",
       "      <th></th>\n",
       "      <th></th>\n",
       "      <th></th>\n",
       "      <th></th>\n",
       "      <th></th>\n",
       "      <th></th>\n",
       "      <th></th>\n",
       "      <th></th>\n",
       "      <th></th>\n",
       "      <th></th>\n",
       "      <th></th>\n",
       "      <th></th>\n",
       "      <th></th>\n",
       "      <th></th>\n",
       "      <th></th>\n",
       "      <th></th>\n",
       "      <th></th>\n",
       "      <th></th>\n",
       "      <th></th>\n",
       "      <th></th>\n",
       "      <th></th>\n",
       "    </tr>\n",
       "  </thead>\n",
       "  <tbody>\n",
       "    <tr>\n",
       "      <th>2020-01-31</th>\n",
       "      <td>82.350426</td>\n",
       "      <td>26.741179</td>\n",
       "      <td>131.378830</td>\n",
       "      <td>308.777191</td>\n",
       "      <td>81.019997</td>\n",
       "      <td>85.184814</td>\n",
       "      <td>186.289993</td>\n",
       "      <td>87.139999</td>\n",
       "      <td>205.210007</td>\n",
       "      <td>351.140015</td>\n",
       "      <td>...</td>\n",
       "      <td>5043400</td>\n",
       "      <td>34282900</td>\n",
       "      <td>1625800</td>\n",
       "      <td>2335900</td>\n",
       "      <td>1553200</td>\n",
       "      <td>2117400</td>\n",
       "      <td>1407700</td>\n",
       "      <td>335900</td>\n",
       "      <td>1880800</td>\n",
       "      <td>2582300</td>\n",
       "    </tr>\n",
       "    <tr>\n",
       "      <th>2020-02-03</th>\n",
       "      <td>81.941467</td>\n",
       "      <td>27.059999</td>\n",
       "      <td>132.276291</td>\n",
       "      <td>307.929199</td>\n",
       "      <td>82.300003</td>\n",
       "      <td>85.324196</td>\n",
       "      <td>185.949997</td>\n",
       "      <td>87.059998</td>\n",
       "      <td>207.800003</td>\n",
       "      <td>358.000000</td>\n",
       "      <td>...</td>\n",
       "      <td>4640600</td>\n",
       "      <td>27397300</td>\n",
       "      <td>1324000</td>\n",
       "      <td>1839500</td>\n",
       "      <td>1259300</td>\n",
       "      <td>1671000</td>\n",
       "      <td>1905600</td>\n",
       "      <td>262400</td>\n",
       "      <td>2642600</td>\n",
       "      <td>2377000</td>\n",
       "    </tr>\n",
       "    <tr>\n",
       "      <th>2020-02-04</th>\n",
       "      <td>83.307983</td>\n",
       "      <td>28.430000</td>\n",
       "      <td>131.189362</td>\n",
       "      <td>318.095062</td>\n",
       "      <td>84.360001</td>\n",
       "      <td>87.703720</td>\n",
       "      <td>190.899994</td>\n",
       "      <td>88.230003</td>\n",
       "      <td>212.529999</td>\n",
       "      <td>366.739990</td>\n",
       "      <td>...</td>\n",
       "      <td>3275900</td>\n",
       "      <td>31922100</td>\n",
       "      <td>1081700</td>\n",
       "      <td>2661900</td>\n",
       "      <td>1380900</td>\n",
       "      <td>1595500</td>\n",
       "      <td>3068300</td>\n",
       "      <td>251100</td>\n",
       "      <td>2292300</td>\n",
       "      <td>1839800</td>\n",
       "    </tr>\n",
       "    <tr>\n",
       "      <th>2020-02-05</th>\n",
       "      <td>84.714409</td>\n",
       "      <td>29.100000</td>\n",
       "      <td>136.633987</td>\n",
       "      <td>320.688934</td>\n",
       "      <td>86.629997</td>\n",
       "      <td>91.039032</td>\n",
       "      <td>190.729996</td>\n",
       "      <td>89.559998</td>\n",
       "      <td>212.220001</td>\n",
       "      <td>365.549988</td>\n",
       "      <td>...</td>\n",
       "      <td>3477000</td>\n",
       "      <td>32099200</td>\n",
       "      <td>1084000</td>\n",
       "      <td>2328500</td>\n",
       "      <td>1803700</td>\n",
       "      <td>1814400</td>\n",
       "      <td>1364100</td>\n",
       "      <td>244200</td>\n",
       "      <td>2326100</td>\n",
       "      <td>1507600</td>\n",
       "    </tr>\n",
       "    <tr>\n",
       "      <th>2020-02-06</th>\n",
       "      <td>84.604691</td>\n",
       "      <td>28.299999</td>\n",
       "      <td>133.991440</td>\n",
       "      <td>324.440002</td>\n",
       "      <td>87.180000</td>\n",
       "      <td>92.074471</td>\n",
       "      <td>196.009995</td>\n",
       "      <td>89.470001</td>\n",
       "      <td>214.160004</td>\n",
       "      <td>367.459991</td>\n",
       "      <td>...</td>\n",
       "      <td>2777400</td>\n",
       "      <td>16055400</td>\n",
       "      <td>938400</td>\n",
       "      <td>2313700</td>\n",
       "      <td>5052400</td>\n",
       "      <td>3271600</td>\n",
       "      <td>1185700</td>\n",
       "      <td>407500</td>\n",
       "      <td>2144200</td>\n",
       "      <td>2206800</td>\n",
       "    </tr>\n",
       "  </tbody>\n",
       "</table>\n",
       "<p>5 rows × 3030 columns</p>\n",
       "</div>"
      ],
      "text/plain": [
       "            Adj Close                                                \\\n",
       "                    A        AAL         AAP        AAPL       ABBV   \n",
       "Date                                                                  \n",
       "2020-01-31  82.350426  26.741179  131.378830  308.777191  81.019997   \n",
       "2020-02-03  81.941467  27.059999  132.276291  307.929199  82.300003   \n",
       "2020-02-04  83.307983  28.430000  131.189362  318.095062  84.360001   \n",
       "2020-02-05  84.714409  29.100000  136.633987  320.688934  86.629997   \n",
       "2020-02-06  84.604691  28.299999  133.991440  324.440002  87.180000   \n",
       "\n",
       "                                                                      ...  \\\n",
       "                  ABC        ABMD        ABT         ACN        ADBE  ...   \n",
       "Date                                                                  ...   \n",
       "2020-01-31  85.184814  186.289993  87.139999  205.210007  351.140015  ...   \n",
       "2020-02-03  85.324196  185.949997  87.059998  207.800003  358.000000  ...   \n",
       "2020-02-04  87.703720  190.899994  88.230003  212.529999  366.739990  ...   \n",
       "2020-02-05  91.039032  190.729996  89.559998  212.220001  365.549988  ...   \n",
       "2020-02-06  92.074471  196.009995  89.470001  214.160004  367.459991  ...   \n",
       "\n",
       "             Volume                                                         \\\n",
       "               XLNX       XOM     XRAY      XRX      XYL      YUM      ZBH   \n",
       "Date                                                                         \n",
       "2020-01-31  5043400  34282900  1625800  2335900  1553200  2117400  1407700   \n",
       "2020-02-03  4640600  27397300  1324000  1839500  1259300  1671000  1905600   \n",
       "2020-02-04  3275900  31922100  1081700  2661900  1380900  1595500  3068300   \n",
       "2020-02-05  3477000  32099200  1084000  2328500  1803700  1814400  1364100   \n",
       "2020-02-06  2777400  16055400   938400  2313700  5052400  3271600  1185700   \n",
       "\n",
       "                                      \n",
       "              ZBRA     ZION      ZTS  \n",
       "Date                                  \n",
       "2020-01-31  335900  1880800  2582300  \n",
       "2020-02-03  262400  2642600  2377000  \n",
       "2020-02-04  251100  2292300  1839800  \n",
       "2020-02-05  244200  2326100  1507600  \n",
       "2020-02-06  407500  2144200  2206800  \n",
       "\n",
       "[5 rows x 3030 columns]"
      ]
     },
     "execution_count": 358,
     "metadata": {},
     "output_type": "execute_result"
    }
   ],
   "source": [
    "symbol_names = list(sp500_constituents[\"Symbol\"])\n",
    "stock_prices = yf.download(tickers=symbol_names, start=\"2020-02-01\", end=\"2020-03-30\", threads=True)\n",
    "stock_prices = stock_prices[\"Adj Close\"] # only care about price at closing\n",
    "stock_prices.head()"
   ]
  },
  {
   "cell_type": "code",
   "execution_count": 359,
   "metadata": {},
   "outputs": [],
   "source": [
    "stock_prices = stock_prices[\"Adj Close\"]"
   ]
  },
  {
   "cell_type": "markdown",
   "metadata": {},
   "source": [
    "An interesting question we can now answer is to see which sector was hardest "
   ]
  },
  {
   "cell_type": "code",
   "execution_count": 362,
   "metadata": {},
   "outputs": [
    {
     "data": {
      "text/html": [
       "<div>\n",
       "<style scoped>\n",
       "    .dataframe tbody tr th:only-of-type {\n",
       "        vertical-align: middle;\n",
       "    }\n",
       "\n",
       "    .dataframe tbody tr th {\n",
       "        vertical-align: top;\n",
       "    }\n",
       "\n",
       "    .dataframe thead th {\n",
       "        text-align: right;\n",
       "    }\n",
       "</style>\n",
       "<table border=\"1\" class=\"dataframe\">\n",
       "  <thead>\n",
       "    <tr style=\"text-align: right;\">\n",
       "      <th>Date</th>\n",
       "      <th>2020-01-31</th>\n",
       "      <th>2020-02-03</th>\n",
       "      <th>2020-02-04</th>\n",
       "      <th>2020-02-05</th>\n",
       "      <th>2020-02-06</th>\n",
       "      <th>2020-02-07</th>\n",
       "      <th>2020-02-10</th>\n",
       "      <th>2020-02-11</th>\n",
       "      <th>2020-02-12</th>\n",
       "      <th>2020-02-13</th>\n",
       "      <th>...</th>\n",
       "      <th>2020-03-16</th>\n",
       "      <th>2020-03-17</th>\n",
       "      <th>2020-03-18</th>\n",
       "      <th>2020-03-19</th>\n",
       "      <th>2020-03-20</th>\n",
       "      <th>2020-03-23</th>\n",
       "      <th>2020-03-24</th>\n",
       "      <th>2020-03-25</th>\n",
       "      <th>2020-03-26</th>\n",
       "      <th>2020-03-27</th>\n",
       "    </tr>\n",
       "  </thead>\n",
       "  <tbody>\n",
       "    <tr>\n",
       "      <th>A</th>\n",
       "      <td>82.350426</td>\n",
       "      <td>81.941467</td>\n",
       "      <td>83.307983</td>\n",
       "      <td>84.714409</td>\n",
       "      <td>84.604691</td>\n",
       "      <td>82.958878</td>\n",
       "      <td>84.215683</td>\n",
       "      <td>84.874001</td>\n",
       "      <td>85.213142</td>\n",
       "      <td>85.253044</td>\n",
       "      <td>...</td>\n",
       "      <td>63.967205</td>\n",
       "      <td>70.261192</td>\n",
       "      <td>68.695183</td>\n",
       "      <td>65.593071</td>\n",
       "      <td>66.291298</td>\n",
       "      <td>63.209137</td>\n",
       "      <td>66.829926</td>\n",
       "      <td>68.824844</td>\n",
       "      <td>73.532867</td>\n",
       "      <td>70.730003</td>\n",
       "    </tr>\n",
       "    <tr>\n",
       "      <th>AAL</th>\n",
       "      <td>26.741179</td>\n",
       "      <td>27.059999</td>\n",
       "      <td>28.430000</td>\n",
       "      <td>29.100000</td>\n",
       "      <td>28.299999</td>\n",
       "      <td>28.379999</td>\n",
       "      <td>28.790001</td>\n",
       "      <td>29.840000</td>\n",
       "      <td>30.469999</td>\n",
       "      <td>30.090000</td>\n",
       "      <td>...</td>\n",
       "      <td>15.920000</td>\n",
       "      <td>15.580000</td>\n",
       "      <td>11.650000</td>\n",
       "      <td>10.290000</td>\n",
       "      <td>10.380000</td>\n",
       "      <td>10.250000</td>\n",
       "      <td>13.920000</td>\n",
       "      <td>15.390000</td>\n",
       "      <td>15.660000</td>\n",
       "      <td>14.040000</td>\n",
       "    </tr>\n",
       "    <tr>\n",
       "      <th>AAP</th>\n",
       "      <td>131.378830</td>\n",
       "      <td>132.276291</td>\n",
       "      <td>131.189362</td>\n",
       "      <td>136.633987</td>\n",
       "      <td>133.991440</td>\n",
       "      <td>132.555496</td>\n",
       "      <td>130.311844</td>\n",
       "      <td>131.737823</td>\n",
       "      <td>133.941605</td>\n",
       "      <td>134.290604</td>\n",
       "      <td>...</td>\n",
       "      <td>94.981659</td>\n",
       "      <td>99.967575</td>\n",
       "      <td>88.489998</td>\n",
       "      <td>85.970001</td>\n",
       "      <td>75.029999</td>\n",
       "      <td>78.500000</td>\n",
       "      <td>86.379997</td>\n",
       "      <td>90.370003</td>\n",
       "      <td>97.120003</td>\n",
       "      <td>95.599998</td>\n",
       "    </tr>\n",
       "    <tr>\n",
       "      <th>AAPL</th>\n",
       "      <td>308.777191</td>\n",
       "      <td>307.929199</td>\n",
       "      <td>318.095062</td>\n",
       "      <td>320.688934</td>\n",
       "      <td>324.440002</td>\n",
       "      <td>320.029999</td>\n",
       "      <td>321.549988</td>\n",
       "      <td>319.609985</td>\n",
       "      <td>327.200012</td>\n",
       "      <td>324.869995</td>\n",
       "      <td>...</td>\n",
       "      <td>242.210007</td>\n",
       "      <td>252.860001</td>\n",
       "      <td>246.669998</td>\n",
       "      <td>244.779999</td>\n",
       "      <td>229.240005</td>\n",
       "      <td>224.369995</td>\n",
       "      <td>246.880005</td>\n",
       "      <td>245.520004</td>\n",
       "      <td>258.440002</td>\n",
       "      <td>247.740005</td>\n",
       "    </tr>\n",
       "    <tr>\n",
       "      <th>ABBV</th>\n",
       "      <td>81.019997</td>\n",
       "      <td>82.300003</td>\n",
       "      <td>84.360001</td>\n",
       "      <td>86.629997</td>\n",
       "      <td>87.180000</td>\n",
       "      <td>92.290001</td>\n",
       "      <td>94.750000</td>\n",
       "      <td>96.000000</td>\n",
       "      <td>97.790001</td>\n",
       "      <td>95.349998</td>\n",
       "      <td>...</td>\n",
       "      <td>74.269997</td>\n",
       "      <td>73.019997</td>\n",
       "      <td>71.029999</td>\n",
       "      <td>71.059998</td>\n",
       "      <td>68.820000</td>\n",
       "      <td>64.500000</td>\n",
       "      <td>67.489998</td>\n",
       "      <td>67.910004</td>\n",
       "      <td>73.830002</td>\n",
       "      <td>72.669998</td>\n",
       "    </tr>\n",
       "    <tr>\n",
       "      <th>...</th>\n",
       "      <td>...</td>\n",
       "      <td>...</td>\n",
       "      <td>...</td>\n",
       "      <td>...</td>\n",
       "      <td>...</td>\n",
       "      <td>...</td>\n",
       "      <td>...</td>\n",
       "      <td>...</td>\n",
       "      <td>...</td>\n",
       "      <td>...</td>\n",
       "      <td>...</td>\n",
       "      <td>...</td>\n",
       "      <td>...</td>\n",
       "      <td>...</td>\n",
       "      <td>...</td>\n",
       "      <td>...</td>\n",
       "      <td>...</td>\n",
       "      <td>...</td>\n",
       "      <td>...</td>\n",
       "      <td>...</td>\n",
       "      <td>...</td>\n",
       "    </tr>\n",
       "    <tr>\n",
       "      <th>YUM</th>\n",
       "      <td>105.298073</td>\n",
       "      <td>105.935226</td>\n",
       "      <td>106.233887</td>\n",
       "      <td>106.303574</td>\n",
       "      <td>103.277138</td>\n",
       "      <td>101.584724</td>\n",
       "      <td>102.411018</td>\n",
       "      <td>103.585754</td>\n",
       "      <td>104.869995</td>\n",
       "      <td>105.029999</td>\n",
       "      <td>...</td>\n",
       "      <td>69.830002</td>\n",
       "      <td>65.489998</td>\n",
       "      <td>60.689999</td>\n",
       "      <td>62.599998</td>\n",
       "      <td>58.080002</td>\n",
       "      <td>56.520000</td>\n",
       "      <td>69.660004</td>\n",
       "      <td>72.870003</td>\n",
       "      <td>75.750000</td>\n",
       "      <td>68.529999</td>\n",
       "    </tr>\n",
       "    <tr>\n",
       "      <th>ZBH</th>\n",
       "      <td>147.533401</td>\n",
       "      <td>148.141891</td>\n",
       "      <td>156.381439</td>\n",
       "      <td>157.309128</td>\n",
       "      <td>158.615875</td>\n",
       "      <td>156.002365</td>\n",
       "      <td>157.827835</td>\n",
       "      <td>158.895172</td>\n",
       "      <td>158.306641</td>\n",
       "      <td>158.336563</td>\n",
       "      <td>...</td>\n",
       "      <td>91.771973</td>\n",
       "      <td>85.946449</td>\n",
       "      <td>80.430145</td>\n",
       "      <td>88.919060</td>\n",
       "      <td>85.766891</td>\n",
       "      <td>80.609703</td>\n",
       "      <td>93.168503</td>\n",
       "      <td>96.589996</td>\n",
       "      <td>100.849998</td>\n",
       "      <td>94.940002</td>\n",
       "    </tr>\n",
       "    <tr>\n",
       "      <th>ZBRA</th>\n",
       "      <td>239.020004</td>\n",
       "      <td>242.550003</td>\n",
       "      <td>247.869995</td>\n",
       "      <td>247.809998</td>\n",
       "      <td>252.089996</td>\n",
       "      <td>247.259995</td>\n",
       "      <td>248.550003</td>\n",
       "      <td>247.809998</td>\n",
       "      <td>251.990005</td>\n",
       "      <td>233.320007</td>\n",
       "      <td>...</td>\n",
       "      <td>166.080002</td>\n",
       "      <td>180.660004</td>\n",
       "      <td>185.470001</td>\n",
       "      <td>185.070007</td>\n",
       "      <td>179.380005</td>\n",
       "      <td>170.720001</td>\n",
       "      <td>180.550003</td>\n",
       "      <td>186.229996</td>\n",
       "      <td>197.509995</td>\n",
       "      <td>184.570007</td>\n",
       "    </tr>\n",
       "    <tr>\n",
       "      <th>ZION</th>\n",
       "      <td>45.155807</td>\n",
       "      <td>45.771252</td>\n",
       "      <td>46.337063</td>\n",
       "      <td>47.657288</td>\n",
       "      <td>46.664635</td>\n",
       "      <td>45.890369</td>\n",
       "      <td>45.314632</td>\n",
       "      <td>45.939999</td>\n",
       "      <td>46.110001</td>\n",
       "      <td>46.439999</td>\n",
       "      <td>...</td>\n",
       "      <td>26.559999</td>\n",
       "      <td>28.049999</td>\n",
       "      <td>27.469999</td>\n",
       "      <td>27.250000</td>\n",
       "      <td>25.580000</td>\n",
       "      <td>24.080000</td>\n",
       "      <td>25.180000</td>\n",
       "      <td>25.850000</td>\n",
       "      <td>27.370001</td>\n",
       "      <td>27.580000</td>\n",
       "    </tr>\n",
       "    <tr>\n",
       "      <th>ZTS</th>\n",
       "      <td>134.210007</td>\n",
       "      <td>135.520004</td>\n",
       "      <td>138.970001</td>\n",
       "      <td>137.889999</td>\n",
       "      <td>138.970001</td>\n",
       "      <td>138.899994</td>\n",
       "      <td>142.550003</td>\n",
       "      <td>144.029999</td>\n",
       "      <td>142.979996</td>\n",
       "      <td>144.940002</td>\n",
       "      <td>...</td>\n",
       "      <td>107.040001</td>\n",
       "      <td>111.050003</td>\n",
       "      <td>105.820000</td>\n",
       "      <td>102.330002</td>\n",
       "      <td>100.940002</td>\n",
       "      <td>92.660004</td>\n",
       "      <td>103.760002</td>\n",
       "      <td>108.209999</td>\n",
       "      <td>117.910004</td>\n",
       "      <td>111.769997</td>\n",
       "    </tr>\n",
       "  </tbody>\n",
       "</table>\n",
       "<p>505 rows × 40 columns</p>\n",
       "</div>"
      ],
      "text/plain": [
       "Date  2020-01-31  2020-02-03  2020-02-04  2020-02-05  2020-02-06  2020-02-07  \\\n",
       "A      82.350426   81.941467   83.307983   84.714409   84.604691   82.958878   \n",
       "AAL    26.741179   27.059999   28.430000   29.100000   28.299999   28.379999   \n",
       "AAP   131.378830  132.276291  131.189362  136.633987  133.991440  132.555496   \n",
       "AAPL  308.777191  307.929199  318.095062  320.688934  324.440002  320.029999   \n",
       "ABBV   81.019997   82.300003   84.360001   86.629997   87.180000   92.290001   \n",
       "...          ...         ...         ...         ...         ...         ...   \n",
       "YUM   105.298073  105.935226  106.233887  106.303574  103.277138  101.584724   \n",
       "ZBH   147.533401  148.141891  156.381439  157.309128  158.615875  156.002365   \n",
       "ZBRA  239.020004  242.550003  247.869995  247.809998  252.089996  247.259995   \n",
       "ZION   45.155807   45.771252   46.337063   47.657288   46.664635   45.890369   \n",
       "ZTS   134.210007  135.520004  138.970001  137.889999  138.970001  138.899994   \n",
       "\n",
       "Date  2020-02-10  2020-02-11  2020-02-12  2020-02-13  ...  2020-03-16  \\\n",
       "A      84.215683   84.874001   85.213142   85.253044  ...   63.967205   \n",
       "AAL    28.790001   29.840000   30.469999   30.090000  ...   15.920000   \n",
       "AAP   130.311844  131.737823  133.941605  134.290604  ...   94.981659   \n",
       "AAPL  321.549988  319.609985  327.200012  324.869995  ...  242.210007   \n",
       "ABBV   94.750000   96.000000   97.790001   95.349998  ...   74.269997   \n",
       "...          ...         ...         ...         ...  ...         ...   \n",
       "YUM   102.411018  103.585754  104.869995  105.029999  ...   69.830002   \n",
       "ZBH   157.827835  158.895172  158.306641  158.336563  ...   91.771973   \n",
       "ZBRA  248.550003  247.809998  251.990005  233.320007  ...  166.080002   \n",
       "ZION   45.314632   45.939999   46.110001   46.439999  ...   26.559999   \n",
       "ZTS   142.550003  144.029999  142.979996  144.940002  ...  107.040001   \n",
       "\n",
       "Date  2020-03-17  2020-03-18  2020-03-19  2020-03-20  2020-03-23  2020-03-24  \\\n",
       "A      70.261192   68.695183   65.593071   66.291298   63.209137   66.829926   \n",
       "AAL    15.580000   11.650000   10.290000   10.380000   10.250000   13.920000   \n",
       "AAP    99.967575   88.489998   85.970001   75.029999   78.500000   86.379997   \n",
       "AAPL  252.860001  246.669998  244.779999  229.240005  224.369995  246.880005   \n",
       "ABBV   73.019997   71.029999   71.059998   68.820000   64.500000   67.489998   \n",
       "...          ...         ...         ...         ...         ...         ...   \n",
       "YUM    65.489998   60.689999   62.599998   58.080002   56.520000   69.660004   \n",
       "ZBH    85.946449   80.430145   88.919060   85.766891   80.609703   93.168503   \n",
       "ZBRA  180.660004  185.470001  185.070007  179.380005  170.720001  180.550003   \n",
       "ZION   28.049999   27.469999   27.250000   25.580000   24.080000   25.180000   \n",
       "ZTS   111.050003  105.820000  102.330002  100.940002   92.660004  103.760002   \n",
       "\n",
       "Date  2020-03-25  2020-03-26  2020-03-27  \n",
       "A      68.824844   73.532867   70.730003  \n",
       "AAL    15.390000   15.660000   14.040000  \n",
       "AAP    90.370003   97.120003   95.599998  \n",
       "AAPL  245.520004  258.440002  247.740005  \n",
       "ABBV   67.910004   73.830002   72.669998  \n",
       "...          ...         ...         ...  \n",
       "YUM    72.870003   75.750000   68.529999  \n",
       "ZBH    96.589996  100.849998   94.940002  \n",
       "ZBRA  186.229996  197.509995  184.570007  \n",
       "ZION   25.850000   27.370001   27.580000  \n",
       "ZTS   108.209999  117.910004  111.769997  \n",
       "\n",
       "[505 rows x 40 columns]"
      ]
     },
     "execution_count": 362,
     "metadata": {},
     "output_type": "execute_result"
    }
   ],
   "source": [
    "stock_prices.transpose()"
   ]
  },
  {
   "cell_type": "markdown",
   "metadata": {},
   "source": [
    "## Values"
   ]
  },
  {
   "cell_type": "markdown",
   "metadata": {},
   "source": [
    "`yf.Ticker(\"MSFT\").get_info()[\"marketCap\"]`"
   ]
  },
  {
   "cell_type": "code",
   "execution_count": 341,
   "metadata": {},
   "outputs": [
    {
     "data": {
      "text/html": [
       "<div>\n",
       "<style scoped>\n",
       "    .dataframe tbody tr th:only-of-type {\n",
       "        vertical-align: middle;\n",
       "    }\n",
       "\n",
       "    .dataframe tbody tr th {\n",
       "        vertical-align: top;\n",
       "    }\n",
       "\n",
       "    .dataframe thead th {\n",
       "        text-align: right;\n",
       "    }\n",
       "</style>\n",
       "<table border=\"1\" class=\"dataframe\">\n",
       "  <thead>\n",
       "    <tr style=\"text-align: right;\">\n",
       "      <th></th>\n",
       "      <th>marketCap</th>\n",
       "    </tr>\n",
       "  </thead>\n",
       "  <tbody>\n",
       "    <tr>\n",
       "      <th>MMM</th>\n",
       "      <td>78989082624</td>\n",
       "    </tr>\n",
       "    <tr>\n",
       "      <th>ABT</th>\n",
       "      <td>142520418304</td>\n",
       "    </tr>\n",
       "    <tr>\n",
       "      <th>ABBV</th>\n",
       "      <td>112197386240</td>\n",
       "    </tr>\n",
       "    <tr>\n",
       "      <th>ABMD</th>\n",
       "      <td>6640275968</td>\n",
       "    </tr>\n",
       "    <tr>\n",
       "      <th>ACN</th>\n",
       "      <td>106709229568</td>\n",
       "    </tr>\n",
       "  </tbody>\n",
       "</table>\n",
       "</div>"
      ],
      "text/plain": [
       "         marketCap\n",
       "MMM    78989082624\n",
       "ABT   142520418304\n",
       "ABBV  112197386240\n",
       "ABMD    6640275968\n",
       "ACN   106709229568"
      ]
     },
     "execution_count": 341,
     "metadata": {},
     "output_type": "execute_result"
    }
   ],
   "source": [
    "url = 'https://gist.githubusercontent.com/sbodenstein/a70b3345644006c57dd7a23da4b072e9/raw/ac88bd1c05710d8ae2a16421ded829cbc19c00ed/sp500_market_caps.csv'\n",
    "market_cap = pd.read_csv(url, index_col=0)\n",
    "market_cap.head()"
   ]
  },
  {
   "cell_type": "code",
   "execution_count": 353,
   "metadata": {},
   "outputs": [
    {
     "data": {
      "text/plain": [
       "<matplotlib.axes._subplots.AxesSubplot at 0x12c0c7910>"
      ]
     },
     "execution_count": 353,
     "metadata": {},
     "output_type": "execute_result"
    },
    {
     "data": {
      "image/png": "[encoded data removed]",
      "text/plain": [
       "<Figure size 432x288 with 1 Axes>"
      ]
     },
     "metadata": {},
     "output_type": "display_data"
    }
   ],
   "source": [
    "market_cap[\"marketCap\"].sort_values().plot()"
   ]
  },
  {
   "cell_type": "code",
   "execution_count": 354,
   "metadata": {},
   "outputs": [
    {
     "data": {
      "text/plain": [
       "marketCap    23763540474624\n",
       "dtype: int64"
      ]
     },
     "execution_count": 354,
     "metadata": {},
     "output_type": "execute_result"
    }
   ],
   "source": [
    "market_cap.sum()"
   ]
  },
  {
   "cell_type": "markdown",
   "metadata": {},
   "source": [
    "## Benfords Law"
   ]
  },
  {
   "cell_type": "code",
   "execution_count": 152,
   "metadata": {},
   "outputs": [],
   "source": [
    "import seaborn as sns"
   ]
  },
  {
   "cell_type": "code",
   "execution_count": 405,
   "metadata": {},
   "outputs": [
    {
     "ename": "KeyError",
     "evalue": "'None of [None] are in the columns'",
     "output_type": "error",
     "traceback": [
      "\u001b[0;31m---------------------------------------------------------------------------\u001b[0m",
      "\u001b[0;31mKeyError\u001b[0m                                  Traceback (most recent call last)",
      "\u001b[0;32m<ipython-input-405-311db4b2f3ad>\u001b[0m in \u001b[0;36m<module>\u001b[0;34m\u001b[0m\n\u001b[0;32m----> 1\u001b[0;31m \u001b[0mstock_prices\u001b[0m\u001b[0;34m.\u001b[0m\u001b[0mpivot\u001b[0m\u001b[0;34m(\u001b[0m\u001b[0;34m)\u001b[0m\u001b[0;34m\u001b[0m\u001b[0;34m\u001b[0m\u001b[0m\n\u001b[0m",
      "\u001b[0;32m~/.pyenv/versions/3.8.1/lib/python3.8/site-packages/pandas/core/frame.py\u001b[0m in \u001b[0;36mpivot\u001b[0;34m(self, index, columns, values)\u001b[0m\n\u001b[1;32m   5921\u001b[0m         \u001b[0;32mfrom\u001b[0m \u001b[0mpandas\u001b[0m\u001b[0;34m.\u001b[0m\u001b[0mcore\u001b[0m\u001b[0;34m.\u001b[0m\u001b[0mreshape\u001b[0m\u001b[0;34m.\u001b[0m\u001b[0mpivot\u001b[0m \u001b[0;32mimport\u001b[0m \u001b[0mpivot\u001b[0m\u001b[0;34m\u001b[0m\u001b[0;34m\u001b[0m\u001b[0m\n\u001b[1;32m   5922\u001b[0m \u001b[0;34m\u001b[0m\u001b[0m\n\u001b[0;32m-> 5923\u001b[0;31m         \u001b[0;32mreturn\u001b[0m \u001b[0mpivot\u001b[0m\u001b[0;34m(\u001b[0m\u001b[0mself\u001b[0m\u001b[0;34m,\u001b[0m \u001b[0mindex\u001b[0m\u001b[0;34m=\u001b[0m\u001b[0mindex\u001b[0m\u001b[0;34m,\u001b[0m \u001b[0mcolumns\u001b[0m\u001b[0;34m=\u001b[0m\u001b[0mcolumns\u001b[0m\u001b[0;34m,\u001b[0m \u001b[0mvalues\u001b[0m\u001b[0;34m=\u001b[0m\u001b[0mvalues\u001b[0m\u001b[0;34m)\u001b[0m\u001b[0;34m\u001b[0m\u001b[0;34m\u001b[0m\u001b[0m\n\u001b[0m\u001b[1;32m   5924\u001b[0m \u001b[0;34m\u001b[0m\u001b[0m\n\u001b[1;32m   5925\u001b[0m     _shared_docs[\n",
      "\u001b[0;32m~/.pyenv/versions/3.8.1/lib/python3.8/site-packages/pandas/core/reshape/pivot.py\u001b[0m in \u001b[0;36mpivot\u001b[0;34m(data, index, columns, values)\u001b[0m\n\u001b[1;32m    433\u001b[0m         \u001b[0mcols\u001b[0m \u001b[0;34m=\u001b[0m \u001b[0;34m[\u001b[0m\u001b[0mcolumns\u001b[0m\u001b[0;34m]\u001b[0m \u001b[0;32mif\u001b[0m \u001b[0mindex\u001b[0m \u001b[0;32mis\u001b[0m \u001b[0;32mNone\u001b[0m \u001b[0;32melse\u001b[0m \u001b[0;34m[\u001b[0m\u001b[0mindex\u001b[0m\u001b[0;34m,\u001b[0m \u001b[0mcolumns\u001b[0m\u001b[0;34m]\u001b[0m\u001b[0;34m\u001b[0m\u001b[0;34m\u001b[0m\u001b[0m\n\u001b[1;32m    434\u001b[0m         \u001b[0mappend\u001b[0m \u001b[0;34m=\u001b[0m \u001b[0mindex\u001b[0m \u001b[0;32mis\u001b[0m \u001b[0;32mNone\u001b[0m\u001b[0;34m\u001b[0m\u001b[0;34m\u001b[0m\u001b[0m\n\u001b[0;32m--> 435\u001b[0;31m         \u001b[0mindexed\u001b[0m \u001b[0;34m=\u001b[0m \u001b[0mdata\u001b[0m\u001b[0;34m.\u001b[0m\u001b[0mset_index\u001b[0m\u001b[0;34m(\u001b[0m\u001b[0mcols\u001b[0m\u001b[0;34m,\u001b[0m \u001b[0mappend\u001b[0m\u001b[0;34m=\u001b[0m\u001b[0mappend\u001b[0m\u001b[0;34m)\u001b[0m\u001b[0;34m\u001b[0m\u001b[0;34m\u001b[0m\u001b[0m\n\u001b[0m\u001b[1;32m    436\u001b[0m     \u001b[0;32melse\u001b[0m\u001b[0;34m:\u001b[0m\u001b[0;34m\u001b[0m\u001b[0;34m\u001b[0m\u001b[0m\n\u001b[1;32m    437\u001b[0m         \u001b[0;32mif\u001b[0m \u001b[0mindex\u001b[0m \u001b[0;32mis\u001b[0m \u001b[0;32mNone\u001b[0m\u001b[0;34m:\u001b[0m\u001b[0;34m\u001b[0m\u001b[0;34m\u001b[0m\u001b[0m\n",
      "\u001b[0;32m~/.pyenv/versions/3.8.1/lib/python3.8/site-packages/pandas/core/frame.py\u001b[0m in \u001b[0;36mset_index\u001b[0;34m(self, keys, drop, append, inplace, verify_integrity)\u001b[0m\n\u001b[1;32m   4301\u001b[0m \u001b[0;34m\u001b[0m\u001b[0m\n\u001b[1;32m   4302\u001b[0m         \u001b[0;32mif\u001b[0m \u001b[0mmissing\u001b[0m\u001b[0;34m:\u001b[0m\u001b[0;34m\u001b[0m\u001b[0;34m\u001b[0m\u001b[0m\n\u001b[0;32m-> 4303\u001b[0;31m             \u001b[0;32mraise\u001b[0m \u001b[0mKeyError\u001b[0m\u001b[0;34m(\u001b[0m\u001b[0;34mf\"None of {missing} are in the columns\"\u001b[0m\u001b[0;34m)\u001b[0m\u001b[0;34m\u001b[0m\u001b[0;34m\u001b[0m\u001b[0m\n\u001b[0m\u001b[1;32m   4304\u001b[0m \u001b[0;34m\u001b[0m\u001b[0m\n\u001b[1;32m   4305\u001b[0m         \u001b[0;32mif\u001b[0m \u001b[0minplace\u001b[0m\u001b[0;34m:\u001b[0m\u001b[0;34m\u001b[0m\u001b[0;34m\u001b[0m\u001b[0m\n",
      "\u001b[0;31mKeyError\u001b[0m: 'None of [None] are in the columns'"
     ]
    }
   ],
   "source": [
    "stock_prices.pivot()"
   ]
  },
  {
   "cell_type": "code",
   "execution_count": 200,
   "metadata": {},
   "outputs": [
    {
     "data": {
      "text/plain": [
       "Date\n",
       "2019-12-31          NaN\n",
       "2020-01-02          NaN\n",
       "2020-01-03          NaN\n",
       "2020-01-06          NaN\n",
       "2020-01-07          NaN\n",
       "                ...    \n",
       "2020-03-23    71.260002\n",
       "2020-03-24    76.809998\n",
       "2020-03-25    85.120003\n",
       "2020-03-26    86.879997\n",
       "2020-03-27    82.669998\n",
       "Name: TT, Length: 61, dtype: float64"
      ]
     },
     "execution_count": 200,
     "metadata": {},
     "output_type": "execute_result"
    }
   ],
   "source": [
    "stock_prices[\"TT\"]"
   ]
  },
  {
   "cell_type": "code",
   "execution_count": 187,
   "metadata": {},
   "outputs": [],
   "source": [
    "a=stock_prices.loc[\"2019-12-31\"]"
   ]
  },
  {
   "cell_type": "code",
   "execution_count": 199,
   "metadata": {},
   "outputs": [
    {
     "data": {
      "text/plain": [
       "TT   NaN\n",
       "Name: 2019-12-31 00:00:00, dtype: float64"
      ]
     },
     "execution_count": 199,
     "metadata": {},
     "output_type": "execute_result"
    }
   ],
   "source": [
    "a[a.isna()]"
   ]
  },
  {
   "cell_type": "code",
   "execution_count": 195,
   "metadata": {},
   "outputs": [
    {
     "data": {
      "text/plain": [
       "1    1.0\n",
       "3    3.0\n",
       "dtype: float64"
      ]
     },
     "execution_count": 195,
     "metadata": {},
     "output_type": "execute_result"
    }
   ],
   "source": [
    "s[s.notna()]"
   ]
  },
  {
   "cell_type": "code",
   "execution_count": 174,
   "metadata": {},
   "outputs": [],
   "source": [
    "sns.set(color_codes=True)"
   ]
  },
  {
   "cell_type": "code",
   "execution_count": 176,
   "metadata": {},
   "outputs": [
    {
     "data": {
      "image/png": "[encoded data removed]",
      "text/plain": [
       "<Figure size 432x288 with 1 Axes>"
      ]
     },
     "metadata": {},
     "output_type": "display_data"
    }
   ],
   "source": [
    "x = np.random.normal(size=100)\n",
    "sns.distplot(x, kde=False);"
   ]
  },
  {
   "cell_type": "code",
   "execution_count": 207,
   "metadata": {},
   "outputs": [],
   "source": [
    "t = yf.Ticker(\"MSFT\").history(period=\"max\")"
   ]
  },
  {
   "cell_type": "code",
   "execution_count": 211,
   "metadata": {},
   "outputs": [
    {
     "name": "stdout",
     "output_type": "stream",
     "text": [
      "[*********************100%***********************]  2 of 2 completed\n"
     ]
    }
   ],
   "source": [
    "data = yf.download(\"SPY AAPL\", start=\"2017-01-01\", end=\"2017-04-30\")"
   ]
  },
  {
   "cell_type": "code",
   "execution_count": 214,
   "metadata": {},
   "outputs": [],
   "source": [
    "sp500 = yf.Ticker(\"^GSPC\")"
   ]
  },
  {
   "cell_type": "code",
   "execution_count": 235,
   "metadata": {},
   "outputs": [],
   "source": [
    "m = yf.Ticker(\"MSFT\")"
   ]
  },
  {
   "cell_type": "code",
   "execution_count": 317,
   "metadata": {},
   "outputs": [
    {
     "data": {
      "text/plain": [
       "4.912362098693848"
      ]
     },
     "execution_count": 317,
     "metadata": {},
     "output_type": "execute_result"
    }
   ],
   "source": [
    "import time\n",
    "\n",
    "t1=time.time()\n",
    "yf.Ticker(\"MSFT\").info[\"marketCap\"]\n",
    "time.time() - t1"
   ]
  },
  {
   "cell_type": "code",
   "execution_count": 323,
   "metadata": {},
   "outputs": [
    {
     "data": {
      "text/plain": [
       "5.824971914291382"
      ]
     },
     "execution_count": 323,
     "metadata": {},
     "output_type": "execute_result"
    }
   ],
   "source": [
    "import time\n",
    "\n",
    "t1=time.time()\n",
    "yf.Ticker(\"MSFT\").get_info()[\"marketCap\"]\n",
    "time.time() - t1"
   ]
  },
  {
   "cell_type": "code",
   "execution_count": 318,
   "metadata": {},
   "outputs": [],
   "source": [
    "a=yf.Ticker(\"MSFT\")"
   ]
  },
  {
   "cell_type": "code",
   "execution_count": 322,
   "metadata": {},
   "outputs": [
    {
     "data": {
      "text/plain": [
       "1202364350464"
      ]
     },
     "execution_count": 322,
     "metadata": {},
     "output_type": "execute_result"
    }
   ],
   "source": []
  },
  {
   "cell_type": "code",
   "execution_count": 259,
   "metadata": {},
   "outputs": [
    {
     "data": {
      "text/plain": [
       "^GSPC             NaN\n",
       "MSFT     1.218717e+12\n",
       "Name: marketCap, dtype: float64"
      ]
     },
     "execution_count": 259,
     "metadata": {},
     "output_type": "execute_result"
    }
   ],
   "source": [
    "from pandas_datareader import data\n",
    "tickers = ['^GSPC', \"MSFT\"]\n",
    "data.get_quote_yahoo(tickers)['marketCap']"
   ]
  },
  {
   "cell_type": "code",
   "execution_count": 254,
   "metadata": {},
   "outputs": [
    {
     "data": {
      "text/plain": [
       "92587245568"
      ]
     },
     "execution_count": 254,
     "metadata": {},
     "output_type": "execute_result"
    }
   ],
   "source": [
    "yf.Ticker(\"TSLA\").info['marketCap']"
   ]
  },
  {
   "cell_type": "code",
   "execution_count": 326,
   "metadata": {},
   "outputs": [],
   "source": [
    "?a.get_info"
   ]
  },
  {
   "cell_type": "markdown",
   "metadata": {},
   "source": [
    "## Yahoo"
   ]
  },
  {
   "cell_type": "code",
   "execution_count": null,
   "metadata": {},
   "outputs": [],
   "source": [
    "from pandas_datareader import data"
   ]
  },
  {
   "cell_type": "code",
   "execution_count": null,
   "metadata": {},
   "outputs": [],
   "source": [
    "tickers = ['^GSPC', \"MSFT\"]\n",
    "data.get_quote_yahoo(tickers)['marketCap']\n",
    "tickers = ['^GSPC', \"MSFT\"]\n",
    "data.get_quote_yahoo(tickers)['marketCap']"
   ]
  },
  {
   "cell_type": "code",
   "execution_count": 330,
   "metadata": {},
   "outputs": [],
   "source": [
    "symbol_names = list(sp500_constituents[\"Symbol\"])\n",
    "caps = data.get_quote_yahoo(symbol_names)['marketCap']"
   ]
  },
  {
   "cell_type": "code",
   "execution_count": 333,
   "metadata": {},
   "outputs": [],
   "source": [
    "caps.to_csv(\"data.csv\")"
   ]
  },
  {
   "cell_type": "code",
   "execution_count": 338,
   "metadata": {},
   "outputs": [
    {
     "data": {
      "text/html": [
       "<div>\n",
       "<style scoped>\n",
       "    .dataframe tbody tr th:only-of-type {\n",
       "        vertical-align: middle;\n",
       "    }\n",
       "\n",
       "    .dataframe tbody tr th {\n",
       "        vertical-align: top;\n",
       "    }\n",
       "\n",
       "    .dataframe thead th {\n",
       "        text-align: right;\n",
       "    }\n",
       "</style>\n",
       "<table border=\"1\" class=\"dataframe\">\n",
       "  <thead>\n",
       "    <tr style=\"text-align: right;\">\n",
       "      <th></th>\n",
       "      <th>marketCap</th>\n",
       "    </tr>\n",
       "  </thead>\n",
       "  <tbody>\n",
       "    <tr>\n",
       "      <th>MMM</th>\n",
       "      <td>78989082624</td>\n",
       "    </tr>\n",
       "    <tr>\n",
       "      <th>ABT</th>\n",
       "      <td>142520418304</td>\n",
       "    </tr>\n",
       "    <tr>\n",
       "      <th>ABBV</th>\n",
       "      <td>112197386240</td>\n",
       "    </tr>\n",
       "    <tr>\n",
       "      <th>ABMD</th>\n",
       "      <td>6640275968</td>\n",
       "    </tr>\n",
       "    <tr>\n",
       "      <th>ACN</th>\n",
       "      <td>106709229568</td>\n",
       "    </tr>\n",
       "    <tr>\n",
       "      <th>...</th>\n",
       "      <td>...</td>\n",
       "    </tr>\n",
       "    <tr>\n",
       "      <th>YUM</th>\n",
       "      <td>21313239040</td>\n",
       "    </tr>\n",
       "    <tr>\n",
       "      <th>ZBRA</th>\n",
       "      <td>10088824832</td>\n",
       "    </tr>\n",
       "    <tr>\n",
       "      <th>ZBH</th>\n",
       "      <td>20381945856</td>\n",
       "    </tr>\n",
       "    <tr>\n",
       "      <th>ZION</th>\n",
       "      <td>4441472000</td>\n",
       "    </tr>\n",
       "    <tr>\n",
       "      <th>ZTS</th>\n",
       "      <td>54522425344</td>\n",
       "    </tr>\n",
       "  </tbody>\n",
       "</table>\n",
       "<p>505 rows × 1 columns</p>\n",
       "</div>"
      ],
      "text/plain": [
       "         marketCap\n",
       "MMM    78989082624\n",
       "ABT   142520418304\n",
       "ABBV  112197386240\n",
       "ABMD    6640275968\n",
       "ACN   106709229568\n",
       "...            ...\n",
       "YUM    21313239040\n",
       "ZBRA   10088824832\n",
       "ZBH    20381945856\n",
       "ZION    4441472000\n",
       "ZTS    54522425344\n",
       "\n",
       "[505 rows x 1 columns]"
      ]
     },
     "execution_count": 338,
     "metadata": {},
     "output_type": "execute_result"
    }
   ],
   "source": [
    "url = 'https://gist.githubusercontent.com/sbodenstein/a70b3345644006c57dd7a23da4b072e9/raw/ac88bd1c05710d8ae2a16421ded829cbc19c00ed/sp500_market_caps.csv'\n",
    "pd.read_csv(url, index_col=0)"
   ]
  },
  {
   "cell_type": "code",
   "execution_count": 335,
   "metadata": {},
   "outputs": [],
   "source": [
    "?pd.read_csv"
   ]
  },
  {
   "cell_type": "code",
   "execution_count": 373,
   "metadata": {},
   "outputs": [],
   "source": [
    "d=pd.DataFrame({\"temp\":[1,2,3,4], \"a\":[s,s,s,s]}, )"
   ]
  },
  {
   "cell_type": "code",
   "execution_count": 375,
   "metadata": {},
   "outputs": [
    {
     "data": {
      "text/plain": [
       "0    0     1\n",
       "1     2\n",
       "2     3\n",
       "3     4\n",
       "4     5\n",
       "5     ...\n",
       "1    0     1\n",
       "1     2\n",
       "2     3\n",
       "3     4\n",
       "4     5\n",
       "5     ...\n",
       "2    0     1\n",
       "1     2\n",
       "2     3\n",
       "3     4\n",
       "4     5\n",
       "5     ...\n",
       "3    0     1\n",
       "1     2\n",
       "2     3\n",
       "3     4\n",
       "4     5\n",
       "5     ...\n",
       "Name: a, dtype: object"
      ]
     },
     "execution_count": 375,
     "metadata": {},
     "output_type": "execute_result"
    }
   ],
   "source": [
    "d['a']"
   ]
  },
  {
   "cell_type": "code",
   "execution_count": 371,
   "metadata": {},
   "outputs": [],
   "source": [
    "s=pd.Series([1,2,3,4,5,6,6,3,3,3,3,3,3,3,3])"
   ]
  },
  {
   "cell_type": "code",
   "execution_count": 369,
   "metadata": {},
   "outputs": [
    {
     "data": {
      "text/plain": [
       "0    1\n",
       "1    2\n",
       "2    3\n",
       "3    4\n",
       "dtype: int64"
      ]
     },
     "execution_count": 369,
     "metadata": {},
     "output_type": "execute_result"
    }
   ],
   "source": [
    "s"
   ]
  },
  {
   "cell_type": "code",
   "execution_count": 383,
   "metadata": {},
   "outputs": [],
   "source": [
    "arrays = [['bar', 'bar', 'baz', 'baz', 'foo', 'foo', 'qux', 'qux'],\n",
    "['one', 'two', 'one', 'two', 'one', 'two', 'one', 'two']]\n",
    "\n",
    "\n",
    "tuples = list(zip(*arrays))\n",
    "index = pd.MultiIndex.from_tuples(tuples, names=['first', 'second'])"
   ]
  },
  {
   "cell_type": "code",
   "execution_count": 384,
   "metadata": {},
   "outputs": [
    {
     "data": {
      "text/plain": [
       "MultiIndex([('bar', 'one'),\n",
       "            ('bar', 'two'),\n",
       "            ('baz', 'one'),\n",
       "            ('baz', 'two'),\n",
       "            ('foo', 'one'),\n",
       "            ('foo', 'two'),\n",
       "            ('qux', 'one'),\n",
       "            ('qux', 'two')],\n",
       "           names=['first', 'second'])"
      ]
     },
     "execution_count": 384,
     "metadata": {},
     "output_type": "execute_result"
    }
   ],
   "source": [
    "index"
   ]
  },
  {
   "cell_type": "code",
   "execution_count": 381,
   "metadata": {},
   "outputs": [
    {
     "name": "stdout",
     "output_type": "stream",
     "text": [
      "['bar', 'bar', 'baz', 'baz', 'foo', 'foo', 'qux', 'qux'] ['one', 'two', 'one', 'two', 'one', 'two', 'one', 'two']\n"
     ]
    }
   ],
   "source": [
    "print(*arrays)"
   ]
  },
  {
   "cell_type": "code",
   "execution_count": 388,
   "metadata": {},
   "outputs": [],
   "source": [
    "df1 = pd.DataFrame({'A': ['A0', 'A1', 'A2', 'A3'],\n",
    "    'B': ['B0', 'B1', 'B2', 'B3'],\n",
    "    'C': ['C0', 'C1', 'C2', 'C3'],\n",
    "    'D': ['D0', 'D1', 'D2', 'D3']},\n",
    "    index=[0, 1, 2, 3])\n",
    "\n",
    "df4 = pd.DataFrame({'B': ['B2', 'B3', 'B6', 'B7'],\n",
    "    'D': ['D2', 'D3', 'D6', 'D7'],\n",
    "    'F': ['F2', 'F3', 'F6', 'F7']},\n",
    "    index=[2, 3, 6, 7])\n",
    "\n",
    "frames = [df1, df4]"
   ]
  },
  {
   "cell_type": "code",
   "execution_count": 394,
   "metadata": {},
   "outputs": [],
   "source": [
    "a=pd.concat([df1, df4], axis=1, join='inner')"
   ]
  },
  {
   "cell_type": "code",
   "execution_count": 403,
   "metadata": {},
   "outputs": [
    {
     "data": {
      "text/plain": [
       "Index(['D', 'D'], dtype='object')"
      ]
     },
     "execution_count": 403,
     "metadata": {},
     "output_type": "execute_result"
    }
   ],
   "source": [
    "a[\"D\"].columns"
   ]
  },
  {
   "cell_type": "code",
   "execution_count": null,
   "metadata": {},
   "outputs": [],
   "source": [
    "!pip install pandas\n",
    "!pip install yfinance\n",
    "!pip instal seaborn\n",
    "!pip install pandas_datareader"
   ]
  }
 ],
 "metadata": {
  "kernelspec": {
   "display_name": "Python 3",
   "language": "python",
   "name": "python3"
  },
  "language_info": {
   "codemirror_mode": {
    "name": "ipython",
    "version": 3
   },
   "file_extension": ".py",
   "mimetype": "text/x-python",
   "name": "python",
   "nbconvert_exporter": "python",
   "pygments_lexer": "ipython3",
   "version": "3.8.1"
  }
 },
 "nbformat": 4,
 "nbformat_minor": 4
}
