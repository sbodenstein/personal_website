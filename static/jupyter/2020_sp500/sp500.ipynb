version https://git-lfs.github.com/spec/v1
oid sha256:15162113312befbab5c651e39d5cd37ee60a484a8115a9c8e15355d83465546f
size 268624
